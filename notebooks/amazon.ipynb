{
 "cells": [
  {
   "cell_type": "code",
   "execution_count": 1,
   "metadata": {},
   "outputs": [],
   "source": [
    "import pandas as pd\n",
    "from pathlib import Path\n",
    "import matplotlib.pyplot as plt\n",
    "import seaborn as sns"
   ]
  },
  {
   "cell_type": "code",
   "execution_count": 2,
   "metadata": {},
   "outputs": [],
   "source": [
    "# https://www.kaggle.com/datasets/lokeshparab/amazon-products-dataset/data"
   ]
  },
  {
   "cell_type": "markdown",
   "metadata": {},
   "source": [
    "## Load Data"
   ]
  },
  {
   "cell_type": "code",
   "execution_count": 3,
   "metadata": {},
   "outputs": [],
   "source": [
    "ALL_PRODUCTS_FILEPATH = Path.cwd() / '..' / 'amazon_data_files' / 'Amazon-Products.csv'\n",
    "AIR_CONDITIONERS_FILEPATH = Path.cwd() / '..' / 'amazon_data_files' / 'Air Conditioners.csv'"
   ]
  },
  {
   "cell_type": "code",
   "execution_count": 4,
   "metadata": {},
   "outputs": [
    {
     "data": {
      "text/html": [
       "<div>\n",
       "<style scoped>\n",
       "    .dataframe tbody tr th:only-of-type {\n",
       "        vertical-align: middle;\n",
       "    }\n",
       "\n",
       "    .dataframe tbody tr th {\n",
       "        vertical-align: top;\n",
       "    }\n",
       "\n",
       "    .dataframe thead th {\n",
       "        text-align: right;\n",
       "    }\n",
       "</style>\n",
       "<table border=\"1\" class=\"dataframe\">\n",
       "  <thead>\n",
       "    <tr style=\"text-align: right;\">\n",
       "      <th></th>\n",
       "      <th>Unnamed: 0</th>\n",
       "      <th>Name</th>\n",
       "      <th>main Category</th>\n",
       "      <th>Sub category</th>\n",
       "      <th>image</th>\n",
       "      <th>link</th>\n",
       "      <th>ratings</th>\n",
       "      <th>no of Ratings</th>\n",
       "      <th>discount price</th>\n",
       "      <th>actual price</th>\n",
       "    </tr>\n",
       "  </thead>\n",
       "  <tbody>\n",
       "    <tr>\n",
       "      <th>0</th>\n",
       "      <td>0</td>\n",
       "      <td>Lloyd 1.5 Ton 3 Star Inverter Split Ac (5 In 1...</td>\n",
       "      <td>appliances</td>\n",
       "      <td>Air Conditioners</td>\n",
       "      <td>https://m.media-amazon.com/images/I/31UISB90sY...</td>\n",
       "      <td>https://www.amazon.in/Lloyd-Inverter-Convertib...</td>\n",
       "      <td>4.2</td>\n",
       "      <td>2,255</td>\n",
       "      <td>₹32,999</td>\n",
       "      <td>₹58,990</td>\n",
       "    </tr>\n",
       "    <tr>\n",
       "      <th>1</th>\n",
       "      <td>1</td>\n",
       "      <td>LG 1.5 Ton 5 Star AI DUAL Inverter Split AC (C...</td>\n",
       "      <td>appliances</td>\n",
       "      <td>Air Conditioners</td>\n",
       "      <td>https://m.media-amazon.com/images/I/51JFb7FctD...</td>\n",
       "      <td>https://www.amazon.in/LG-Convertible-Anti-Viru...</td>\n",
       "      <td>4.2</td>\n",
       "      <td>2,948</td>\n",
       "      <td>₹46,490</td>\n",
       "      <td>₹75,990</td>\n",
       "    </tr>\n",
       "    <tr>\n",
       "      <th>2</th>\n",
       "      <td>2</td>\n",
       "      <td>LG 1 Ton 4 Star Ai Dual Inverter Split Ac (Cop...</td>\n",
       "      <td>appliances</td>\n",
       "      <td>Air Conditioners</td>\n",
       "      <td>https://m.media-amazon.com/images/I/51JFb7FctD...</td>\n",
       "      <td>https://www.amazon.in/LG-Inverter-Convertible-...</td>\n",
       "      <td>4.2</td>\n",
       "      <td>1,206</td>\n",
       "      <td>₹34,490</td>\n",
       "      <td>₹61,990</td>\n",
       "    </tr>\n",
       "    <tr>\n",
       "      <th>3</th>\n",
       "      <td>3</td>\n",
       "      <td>LG 1.5 Ton 3 Star AI DUAL Inverter Split AC (C...</td>\n",
       "      <td>appliances</td>\n",
       "      <td>Air Conditioners</td>\n",
       "      <td>https://m.media-amazon.com/images/I/51JFb7FctD...</td>\n",
       "      <td>https://www.amazon.in/LG-Convertible-Anti-Viru...</td>\n",
       "      <td>4.0</td>\n",
       "      <td>69</td>\n",
       "      <td>₹37,990</td>\n",
       "      <td>₹68,990</td>\n",
       "    </tr>\n",
       "    <tr>\n",
       "      <th>4</th>\n",
       "      <td>4</td>\n",
       "      <td>Carrier 1.5 Ton 3 Star Inverter Split AC (Copp...</td>\n",
       "      <td>appliances</td>\n",
       "      <td>Air Conditioners</td>\n",
       "      <td>https://m.media-amazon.com/images/I/41lrtqXPiW...</td>\n",
       "      <td>https://www.amazon.in/Carrier-Inverter-Split-C...</td>\n",
       "      <td>4.1</td>\n",
       "      <td>630</td>\n",
       "      <td>₹34,490</td>\n",
       "      <td>₹67,790</td>\n",
       "    </tr>\n",
       "    <tr>\n",
       "      <th>...</th>\n",
       "      <td>...</td>\n",
       "      <td>...</td>\n",
       "      <td>...</td>\n",
       "      <td>...</td>\n",
       "      <td>...</td>\n",
       "      <td>...</td>\n",
       "      <td>...</td>\n",
       "      <td>...</td>\n",
       "      <td>...</td>\n",
       "      <td>...</td>\n",
       "    </tr>\n",
       "    <tr>\n",
       "      <th>551580</th>\n",
       "      <td>1099</td>\n",
       "      <td>Adidas Regular Fit Men's Track Tops</td>\n",
       "      <td>sports &amp; fitness</td>\n",
       "      <td>Yoga</td>\n",
       "      <td>https://m.media-amazon.com/images/I/71tHAR9pIY...</td>\n",
       "      <td>https://www.amazon.in/Adidas-Regular-Mens-Trac...</td>\n",
       "      <td>3.2</td>\n",
       "      <td>9</td>\n",
       "      <td>₹3,449</td>\n",
       "      <td>₹4,599</td>\n",
       "    </tr>\n",
       "    <tr>\n",
       "      <th>551581</th>\n",
       "      <td>1100</td>\n",
       "      <td>Redwolf Noice Toit Smort - Hoodie (Black)</td>\n",
       "      <td>sports &amp; fitness</td>\n",
       "      <td>Yoga</td>\n",
       "      <td>https://m.media-amazon.com/images/I/41pKrMZ5lQ...</td>\n",
       "      <td>https://www.amazon.in/Redwolf-Noice-Smort-Cott...</td>\n",
       "      <td>2.0</td>\n",
       "      <td>2</td>\n",
       "      <td>₹1,199</td>\n",
       "      <td>₹1,999</td>\n",
       "    </tr>\n",
       "    <tr>\n",
       "      <th>551582</th>\n",
       "      <td>1101</td>\n",
       "      <td>Redwolf Schrute Farms B&amp;B - Hoodie (Navy Blue)</td>\n",
       "      <td>sports &amp; fitness</td>\n",
       "      <td>Yoga</td>\n",
       "      <td>https://m.media-amazon.com/images/I/41n9u+zNSc...</td>\n",
       "      <td>https://www.amazon.in/Redwolf-Schrute-Farms-Ho...</td>\n",
       "      <td>4.0</td>\n",
       "      <td>1</td>\n",
       "      <td>₹1,199</td>\n",
       "      <td>₹1,999</td>\n",
       "    </tr>\n",
       "    <tr>\n",
       "      <th>551583</th>\n",
       "      <td>1102</td>\n",
       "      <td>Puma Men Shorts</td>\n",
       "      <td>sports &amp; fitness</td>\n",
       "      <td>Yoga</td>\n",
       "      <td>https://m.media-amazon.com/images/I/51LoWv5JDt...</td>\n",
       "      <td>https://www.amazon.in/Puma-Woven-Short-5208526...</td>\n",
       "      <td>4.4</td>\n",
       "      <td>37</td>\n",
       "      <td>NaN</td>\n",
       "      <td>NaN</td>\n",
       "    </tr>\n",
       "    <tr>\n",
       "      <th>551584</th>\n",
       "      <td>1103</td>\n",
       "      <td>Mothercare Printed Cotton Elastane Girls Infan...</td>\n",
       "      <td>sports &amp; fitness</td>\n",
       "      <td>Yoga</td>\n",
       "      <td>https://m.media-amazon.com/images/I/814X-sI3DB...</td>\n",
       "      <td>https://www.amazon.in/Mothercare-Carrot-Regula...</td>\n",
       "      <td>4.6</td>\n",
       "      <td>5</td>\n",
       "      <td>₹1,039</td>\n",
       "      <td>₹1,299</td>\n",
       "    </tr>\n",
       "  </tbody>\n",
       "</table>\n",
       "<p>551585 rows × 10 columns</p>\n",
       "</div>"
      ],
      "text/plain": [
       "        Unnamed: 0                                               Name  \\\n",
       "0                0  Lloyd 1.5 Ton 3 Star Inverter Split Ac (5 In 1...   \n",
       "1                1  LG 1.5 Ton 5 Star AI DUAL Inverter Split AC (C...   \n",
       "2                2  LG 1 Ton 4 Star Ai Dual Inverter Split Ac (Cop...   \n",
       "3                3  LG 1.5 Ton 3 Star AI DUAL Inverter Split AC (C...   \n",
       "4                4  Carrier 1.5 Ton 3 Star Inverter Split AC (Copp...   \n",
       "...            ...                                                ...   \n",
       "551580        1099                Adidas Regular Fit Men's Track Tops   \n",
       "551581        1100          Redwolf Noice Toit Smort - Hoodie (Black)   \n",
       "551582        1101     Redwolf Schrute Farms B&B - Hoodie (Navy Blue)   \n",
       "551583        1102                                    Puma Men Shorts   \n",
       "551584        1103  Mothercare Printed Cotton Elastane Girls Infan...   \n",
       "\n",
       "           main Category      Sub category  \\\n",
       "0             appliances  Air Conditioners   \n",
       "1             appliances  Air Conditioners   \n",
       "2             appliances  Air Conditioners   \n",
       "3             appliances  Air Conditioners   \n",
       "4             appliances  Air Conditioners   \n",
       "...                  ...               ...   \n",
       "551580  sports & fitness              Yoga   \n",
       "551581  sports & fitness              Yoga   \n",
       "551582  sports & fitness              Yoga   \n",
       "551583  sports & fitness              Yoga   \n",
       "551584  sports & fitness              Yoga   \n",
       "\n",
       "                                                    image  \\\n",
       "0       https://m.media-amazon.com/images/I/31UISB90sY...   \n",
       "1       https://m.media-amazon.com/images/I/51JFb7FctD...   \n",
       "2       https://m.media-amazon.com/images/I/51JFb7FctD...   \n",
       "3       https://m.media-amazon.com/images/I/51JFb7FctD...   \n",
       "4       https://m.media-amazon.com/images/I/41lrtqXPiW...   \n",
       "...                                                   ...   \n",
       "551580  https://m.media-amazon.com/images/I/71tHAR9pIY...   \n",
       "551581  https://m.media-amazon.com/images/I/41pKrMZ5lQ...   \n",
       "551582  https://m.media-amazon.com/images/I/41n9u+zNSc...   \n",
       "551583  https://m.media-amazon.com/images/I/51LoWv5JDt...   \n",
       "551584  https://m.media-amazon.com/images/I/814X-sI3DB...   \n",
       "\n",
       "                                                     link ratings  \\\n",
       "0       https://www.amazon.in/Lloyd-Inverter-Convertib...     4.2   \n",
       "1       https://www.amazon.in/LG-Convertible-Anti-Viru...     4.2   \n",
       "2       https://www.amazon.in/LG-Inverter-Convertible-...     4.2   \n",
       "3       https://www.amazon.in/LG-Convertible-Anti-Viru...     4.0   \n",
       "4       https://www.amazon.in/Carrier-Inverter-Split-C...     4.1   \n",
       "...                                                   ...     ...   \n",
       "551580  https://www.amazon.in/Adidas-Regular-Mens-Trac...     3.2   \n",
       "551581  https://www.amazon.in/Redwolf-Noice-Smort-Cott...     2.0   \n",
       "551582  https://www.amazon.in/Redwolf-Schrute-Farms-Ho...     4.0   \n",
       "551583  https://www.amazon.in/Puma-Woven-Short-5208526...     4.4   \n",
       "551584  https://www.amazon.in/Mothercare-Carrot-Regula...     4.6   \n",
       "\n",
       "       no of Ratings discount price  actual price  \n",
       "0              2,255        ₹32,999       ₹58,990  \n",
       "1              2,948        ₹46,490       ₹75,990  \n",
       "2              1,206        ₹34,490       ₹61,990  \n",
       "3                 69        ₹37,990       ₹68,990  \n",
       "4                630        ₹34,490       ₹67,790  \n",
       "...              ...            ...           ...  \n",
       "551580             9         ₹3,449        ₹4,599  \n",
       "551581             2         ₹1,199        ₹1,999  \n",
       "551582             1         ₹1,199        ₹1,999  \n",
       "551583            37            NaN           NaN  \n",
       "551584             5         ₹1,039        ₹1,299  \n",
       "\n",
       "[551585 rows x 10 columns]"
      ]
     },
     "execution_count": 4,
     "metadata": {},
     "output_type": "execute_result"
    }
   ],
   "source": [
    "all_products = pd.read_csv(ALL_PRODUCTS_FILEPATH)\n",
    "all_products"
   ]
  },
  {
   "cell_type": "markdown",
   "metadata": {},
   "source": [
    "### Dealing with column names"
   ]
  },
  {
   "cell_type": "code",
   "execution_count": 5,
   "metadata": {},
   "outputs": [],
   "source": [
    "# Drop columns not providing important information\n",
    "all_products = all_products.drop('Unnamed: 0', axis=1)"
   ]
  },
  {
   "cell_type": "code",
   "execution_count": 6,
   "metadata": {},
   "outputs": [],
   "source": [
    "# Keep all column names in same format\n",
    "all_products.columns = all_products.columns.str.lower().str.strip().str.replace(' ','_')"
   ]
  },
  {
   "cell_type": "code",
   "execution_count": 7,
   "metadata": {},
   "outputs": [
    {
     "data": {
      "text/plain": [
       "Index(['name', 'main_category', 'sub_category', 'image', 'link', 'ratings',\n",
       "       'no_of_ratings', 'discount_price', 'actual_price'],\n",
       "      dtype='object')"
      ]
     },
     "execution_count": 7,
     "metadata": {},
     "output_type": "execute_result"
    }
   ],
   "source": [
    "all_products.columns"
   ]
  },
  {
   "cell_type": "code",
   "execution_count": 8,
   "metadata": {},
   "outputs": [
    {
     "data": {
      "text/plain": [
       "(551585, 9)"
      ]
     },
     "execution_count": 8,
     "metadata": {},
     "output_type": "execute_result"
    }
   ],
   "source": [
    "# Number of columns and rows\n",
    "all_products.shape"
   ]
  },
  {
   "cell_type": "markdown",
   "metadata": {},
   "source": [
    "## Data Cleaning"
   ]
  },
  {
   "cell_type": "markdown",
   "metadata": {},
   "source": [
    "\n",
    "### Checking for Missing Data"
   ]
  },
  {
   "cell_type": "code",
   "execution_count": 9,
   "metadata": {},
   "outputs": [
    {
     "data": {
      "text/plain": [
       "name                   0\n",
       "main_category          0\n",
       "sub_category           0\n",
       "image                  0\n",
       "link                   0\n",
       "ratings           175794\n",
       "no_of_ratings     175794\n",
       "discount_price     61163\n",
       "actual_price       17813\n",
       "dtype: int64"
      ]
     },
     "execution_count": 9,
     "metadata": {},
     "output_type": "execute_result"
    }
   ],
   "source": [
    "all_products.isnull().sum()"
   ]
  },
  {
   "cell_type": "code",
   "execution_count": 10,
   "metadata": {},
   "outputs": [
    {
     "data": {
      "text/plain": [
       "name              0.000000\n",
       "main_category     0.000000\n",
       "sub_category      0.000000\n",
       "image             0.000000\n",
       "link              0.000000\n",
       "ratings           0.318707\n",
       "no_of_ratings     0.318707\n",
       "discount_price    0.110886\n",
       "actual_price      0.032294\n",
       "dtype: float64"
      ]
     },
     "execution_count": 10,
     "metadata": {},
     "output_type": "execute_result"
    }
   ],
   "source": [
    "all_products.isnull().mean()"
   ]
  },
  {
   "cell_type": "code",
   "execution_count": 11,
   "metadata": {},
   "outputs": [
    {
     "data": {
      "text/plain": [
       "Index([], dtype='object')"
      ]
     },
     "execution_count": 11,
     "metadata": {},
     "output_type": "execute_result"
    }
   ],
   "source": [
    "# Identifying columns in the dataframe where over 80% of the values are missing\n",
    "all_products.columns[all_products.isnull().mean() > 0.8]\n",
    "\n",
    "# There is no columns with more than 80% of data with missing values so there's no need to filter out any column"
   ]
  },
  {
   "cell_type": "markdown",
   "metadata": {},
   "source": [
    "\n",
    "### Checking for Data Types"
   ]
  },
  {
   "cell_type": "code",
   "execution_count": 12,
   "metadata": {},
   "outputs": [
    {
     "data": {
      "text/html": [
       "<div>\n",
       "<style scoped>\n",
       "    .dataframe tbody tr th:only-of-type {\n",
       "        vertical-align: middle;\n",
       "    }\n",
       "\n",
       "    .dataframe tbody tr th {\n",
       "        vertical-align: top;\n",
       "    }\n",
       "\n",
       "    .dataframe thead th {\n",
       "        text-align: right;\n",
       "    }\n",
       "</style>\n",
       "<table border=\"1\" class=\"dataframe\">\n",
       "  <thead>\n",
       "    <tr style=\"text-align: right;\">\n",
       "      <th></th>\n",
       "      <th>name</th>\n",
       "      <th>main_category</th>\n",
       "      <th>sub_category</th>\n",
       "      <th>image</th>\n",
       "      <th>link</th>\n",
       "      <th>ratings</th>\n",
       "      <th>no_of_ratings</th>\n",
       "      <th>discount_price</th>\n",
       "      <th>actual_price</th>\n",
       "    </tr>\n",
       "  </thead>\n",
       "  <tbody>\n",
       "    <tr>\n",
       "      <th>0</th>\n",
       "      <td>Lloyd 1.5 Ton 3 Star Inverter Split Ac (5 In 1...</td>\n",
       "      <td>appliances</td>\n",
       "      <td>Air Conditioners</td>\n",
       "      <td>https://m.media-amazon.com/images/I/31UISB90sY...</td>\n",
       "      <td>https://www.amazon.in/Lloyd-Inverter-Convertib...</td>\n",
       "      <td>4.2</td>\n",
       "      <td>2,255</td>\n",
       "      <td>₹32,999</td>\n",
       "      <td>₹58,990</td>\n",
       "    </tr>\n",
       "    <tr>\n",
       "      <th>1</th>\n",
       "      <td>LG 1.5 Ton 5 Star AI DUAL Inverter Split AC (C...</td>\n",
       "      <td>appliances</td>\n",
       "      <td>Air Conditioners</td>\n",
       "      <td>https://m.media-amazon.com/images/I/51JFb7FctD...</td>\n",
       "      <td>https://www.amazon.in/LG-Convertible-Anti-Viru...</td>\n",
       "      <td>4.2</td>\n",
       "      <td>2,948</td>\n",
       "      <td>₹46,490</td>\n",
       "      <td>₹75,990</td>\n",
       "    </tr>\n",
       "  </tbody>\n",
       "</table>\n",
       "</div>"
      ],
      "text/plain": [
       "                                                name main_category  \\\n",
       "0  Lloyd 1.5 Ton 3 Star Inverter Split Ac (5 In 1...    appliances   \n",
       "1  LG 1.5 Ton 5 Star AI DUAL Inverter Split AC (C...    appliances   \n",
       "\n",
       "       sub_category                                              image  \\\n",
       "0  Air Conditioners  https://m.media-amazon.com/images/I/31UISB90sY...   \n",
       "1  Air Conditioners  https://m.media-amazon.com/images/I/51JFb7FctD...   \n",
       "\n",
       "                                                link ratings no_of_ratings  \\\n",
       "0  https://www.amazon.in/Lloyd-Inverter-Convertib...     4.2         2,255   \n",
       "1  https://www.amazon.in/LG-Convertible-Anti-Viru...     4.2         2,948   \n",
       "\n",
       "  discount_price actual_price  \n",
       "0        ₹32,999      ₹58,990  \n",
       "1        ₹46,490      ₹75,990  "
      ]
     },
     "execution_count": 12,
     "metadata": {},
     "output_type": "execute_result"
    }
   ],
   "source": [
    "all_products.head(2)"
   ]
  },
  {
   "cell_type": "code",
   "execution_count": 13,
   "metadata": {},
   "outputs": [
    {
     "data": {
      "text/plain": [
       "name              object\n",
       "main_category     object\n",
       "sub_category      object\n",
       "image             object\n",
       "link              object\n",
       "ratings           object\n",
       "no_of_ratings     object\n",
       "discount_price    object\n",
       "actual_price      object\n",
       "dtype: object"
      ]
     },
     "execution_count": 13,
     "metadata": {},
     "output_type": "execute_result"
    }
   ],
   "source": [
    "# Displaying the data types of each column in the dataframe\n",
    "all_products.dtypes"
   ]
  },
  {
   "cell_type": "markdown",
   "metadata": {},
   "source": [
    "The last 4 column should be numerical, however, discount_price and actual_price containg non-numerical characters that need to be removed. After that they can be converted to float values."
   ]
  },
  {
   "cell_type": "code",
   "execution_count": 14,
   "metadata": {},
   "outputs": [],
   "source": [
    "# Remove '₹' symbol:\n",
    "all_products['discount_price'] = all_products['discount_price'].str.split('₹').str[1]\n",
    "all_products['actual_price'] = all_products['actual_price'].str.split('₹').str[1]\n"
   ]
  },
  {
   "cell_type": "code",
   "execution_count": 15,
   "metadata": {},
   "outputs": [],
   "source": [
    "# Remove commas and convert to float values\n",
    "all_products['discount_price'] = all_products['discount_price'].str.replace(',', '').astype(float)\n",
    "all_products['actual_price'] = all_products['actual_price'].str.replace(',', '').astype(float)\n"
   ]
  },
  {
   "cell_type": "code",
   "execution_count": 16,
   "metadata": {},
   "outputs": [
    {
     "data": {
      "text/plain": [
       "array(['4.2', '4.0', '4.1', '4.3', '3.9', '3.8', '3.5', nan, '4.6', '3.3',\n",
       "       '3.4', '3.7', '2.9', '5.0', '4.4', '3.6', '2.7', '4.5', '3.0',\n",
       "       '3.1', '3.2', '4.8', '4.7', '2.5', '1.0', '2.6', '2.8', '2.3',\n",
       "       '1.7', 'Get', '1.8', '2.4', '4.9', '2.2', '1.6', '1.9', '2.0',\n",
       "       '1.4', '2.1', 'FREE', '1.2', '1.3', '1.5', '₹68.99', '₹65', '1.1',\n",
       "       '₹70', '₹100', '₹99', '₹2.99'], dtype=object)"
      ]
     },
     "execution_count": 16,
     "metadata": {},
     "output_type": "execute_result"
    }
   ],
   "source": [
    "# Convert ratings and no_of_ratings to float values. Let's see first what kind of values they contain\n",
    "all_products['ratings'].unique()"
   ]
  },
  {
   "cell_type": "code",
   "execution_count": 17,
   "metadata": {},
   "outputs": [
    {
     "name": "stdout",
     "output_type": "stream",
     "text": [
      "Occurrences of 'Get' in 'ratings' is: 4852\n",
      "Occurrences of 'FREE' in 'ratings' is: 1357\n",
      "Occurrences of '₹68.99' in 'ratings' is: 1\n",
      "Occurrences of '₹65' in 'ratings' is: 1\n",
      "Occurrences of '₹70' in 'ratings' is: 5\n",
      "Occurrences of '₹100' in 'ratings' is: 1\n",
      "Occurrences of '₹99' in 'ratings' is: 14\n",
      "Occurrences of '₹2.99' in 'ratings' is: 2\n"
     ]
    }
   ],
   "source": [
    "# The following values: 'Get','FREE','₹68.99', '₹65','₹70', '₹100', '₹99', '₹2.99' need to be removed. Let's see in how many rows they appear\n",
    "\n",
    "search_values = ['Get', 'FREE', '₹68.99', '₹65', '₹70', '₹100', '₹99', '₹2.99']\n",
    "\n",
    "occurrences = {}\n",
    "for value in search_values:\n",
    "    occurrences[value] = all_products['ratings'].str.contains(value).sum()\n",
    "\n",
    "# Print the occurrences\n",
    "for key, value in occurrences.items():\n",
    "    print(f\"Occurrences of '{key}' in 'ratings' is: {value}\")\n"
   ]
  },
  {
   "cell_type": "markdown",
   "metadata": {},
   "source": [
    "The number of rows represent less than 10% of total number of rows, so let's remove them"
   ]
  },
  {
   "cell_type": "code",
   "execution_count": 18,
   "metadata": {},
   "outputs": [
    {
     "data": {
      "text/plain": [
       "array([4.2, 4. , 4.1, 4.3, 3.9, 3.8, 3.5, nan, 4.6, 3.3, 3.4, 3.7, 2.9,\n",
       "       5. , 4.4, 3.6, 2.7, 4.5, 3. , 3.1, 3.2, 4.8, 4.7, 2.5, 1. , 2.6,\n",
       "       2.8, 2.3, 1.7, 1.8, 2.4, 4.9, 2.2, 1.6, 1.9, 2. , 1.4, 2.1, 1.2,\n",
       "       1.3, 1.5, 1.1])"
      ]
     },
     "execution_count": 18,
     "metadata": {},
     "output_type": "execute_result"
    }
   ],
   "source": [
    "df_to_remove = all_products['ratings'].astype(str).str.contains('|'.join(search_values))  # '|' joins the elements of the search_values list into a single string separated by '|'. astype(str) is to avoid problems using ~ later\n",
    "\n",
    "# Filter the DataFrame to exclude rows with any of the search values in the 'ratings' column:\n",
    "all_products = all_products[~df_to_remove]\n",
    "all_products['ratings'] = all_products['ratings'].astype(float)\n",
    "all_products['ratings'].unique()"
   ]
  },
  {
   "cell_type": "code",
   "execution_count": 19,
   "metadata": {},
   "outputs": [],
   "source": [
    "all_products['no_of_ratings'] = all_products['no_of_ratings'].str.replace(',','').astype(float)"
   ]
  },
  {
   "cell_type": "code",
   "execution_count": 20,
   "metadata": {},
   "outputs": [
    {
     "data": {
      "text/plain": [
       "name               object\n",
       "main_category      object\n",
       "sub_category       object\n",
       "image              object\n",
       "link               object\n",
       "ratings           float64\n",
       "no_of_ratings     float64\n",
       "discount_price    float64\n",
       "actual_price      float64\n",
       "dtype: object"
      ]
     },
     "execution_count": 20,
     "metadata": {},
     "output_type": "execute_result"
    }
   ],
   "source": [
    "all_products.dtypes"
   ]
  },
  {
   "cell_type": "markdown",
   "metadata": {},
   "source": [
    "## EDA"
   ]
  },
  {
   "cell_type": "markdown",
   "metadata": {},
   "source": [
    "From a customer perspective, the most important columns are: 1) Price 2) Rating 3) Manufacturer 4) Description 5) Customer reviews\\\n",
    "Since price and rating are crucial in our further analysis, let's drop missing values the corresponding columns. "
   ]
  },
  {
   "cell_type": "code",
   "execution_count": 21,
   "metadata": {},
   "outputs": [
    {
     "data": {
      "text/plain": [
       "name                   0\n",
       "main_category          0\n",
       "sub_category           0\n",
       "image                  0\n",
       "link                   0\n",
       "ratings           175794\n",
       "no_of_ratings     175794\n",
       "discount_price     60647\n",
       "actual_price       17813\n",
       "dtype: int64"
      ]
     },
     "execution_count": 21,
     "metadata": {},
     "output_type": "execute_result"
    }
   ],
   "source": [
    "all_products.isnull().sum()"
   ]
  },
  {
   "cell_type": "code",
   "execution_count": 22,
   "metadata": {},
   "outputs": [
    {
     "data": {
      "text/plain": [
       "name              0\n",
       "main_category     0\n",
       "sub_category      0\n",
       "image             0\n",
       "link              0\n",
       "ratings           0\n",
       "no_of_ratings     0\n",
       "discount_price    0\n",
       "actual_price      0\n",
       "dtype: int64"
      ]
     },
     "execution_count": 22,
     "metadata": {},
     "output_type": "execute_result"
    }
   ],
   "source": [
    "all_products2 = all_products.dropna(subset=['ratings','no_of_ratings','discount_price','actual_price'])\n",
    "all_products2.isnull().sum()\n"
   ]
  },
  {
   "cell_type": "markdown",
   "metadata": {},
   "source": [
    "### Extract manufacturer information\n",
    "\n",
    "Manufacturer column can be created from information in name column."
   ]
  },
  {
   "cell_type": "code",
   "execution_count": 23,
   "metadata": {},
   "outputs": [
    {
     "data": {
      "text/html": [
       "<div>\n",
       "<style scoped>\n",
       "    .dataframe tbody tr th:only-of-type {\n",
       "        vertical-align: middle;\n",
       "    }\n",
       "\n",
       "    .dataframe tbody tr th {\n",
       "        vertical-align: top;\n",
       "    }\n",
       "\n",
       "    .dataframe thead th {\n",
       "        text-align: right;\n",
       "    }\n",
       "</style>\n",
       "<table border=\"1\" class=\"dataframe\">\n",
       "  <thead>\n",
       "    <tr style=\"text-align: right;\">\n",
       "      <th></th>\n",
       "      <th>name</th>\n",
       "      <th>main_category</th>\n",
       "      <th>sub_category</th>\n",
       "      <th>image</th>\n",
       "      <th>link</th>\n",
       "      <th>ratings</th>\n",
       "      <th>no_of_ratings</th>\n",
       "      <th>discount_price</th>\n",
       "      <th>actual_price</th>\n",
       "    </tr>\n",
       "  </thead>\n",
       "  <tbody>\n",
       "    <tr>\n",
       "      <th>0</th>\n",
       "      <td>Lloyd 1.5 Ton 3 Star Inverter Split Ac (5 In 1...</td>\n",
       "      <td>appliances</td>\n",
       "      <td>Air Conditioners</td>\n",
       "      <td>https://m.media-amazon.com/images/I/31UISB90sY...</td>\n",
       "      <td>https://www.amazon.in/Lloyd-Inverter-Convertib...</td>\n",
       "      <td>4.2</td>\n",
       "      <td>2255.0</td>\n",
       "      <td>32999.0</td>\n",
       "      <td>58990.0</td>\n",
       "    </tr>\n",
       "    <tr>\n",
       "      <th>1</th>\n",
       "      <td>LG 1.5 Ton 5 Star AI DUAL Inverter Split AC (C...</td>\n",
       "      <td>appliances</td>\n",
       "      <td>Air Conditioners</td>\n",
       "      <td>https://m.media-amazon.com/images/I/51JFb7FctD...</td>\n",
       "      <td>https://www.amazon.in/LG-Convertible-Anti-Viru...</td>\n",
       "      <td>4.2</td>\n",
       "      <td>2948.0</td>\n",
       "      <td>46490.0</td>\n",
       "      <td>75990.0</td>\n",
       "    </tr>\n",
       "  </tbody>\n",
       "</table>\n",
       "</div>"
      ],
      "text/plain": [
       "                                                name main_category  \\\n",
       "0  Lloyd 1.5 Ton 3 Star Inverter Split Ac (5 In 1...    appliances   \n",
       "1  LG 1.5 Ton 5 Star AI DUAL Inverter Split AC (C...    appliances   \n",
       "\n",
       "       sub_category                                              image  \\\n",
       "0  Air Conditioners  https://m.media-amazon.com/images/I/31UISB90sY...   \n",
       "1  Air Conditioners  https://m.media-amazon.com/images/I/51JFb7FctD...   \n",
       "\n",
       "                                                link  ratings  no_of_ratings  \\\n",
       "0  https://www.amazon.in/Lloyd-Inverter-Convertib...      4.2         2255.0   \n",
       "1  https://www.amazon.in/LG-Convertible-Anti-Viru...      4.2         2948.0   \n",
       "\n",
       "   discount_price  actual_price  \n",
       "0         32999.0       58990.0  \n",
       "1         46490.0       75990.0  "
      ]
     },
     "execution_count": 23,
     "metadata": {},
     "output_type": "execute_result"
    }
   ],
   "source": [
    "all_products2.head(2)"
   ]
  },
  {
   "cell_type": "code",
   "execution_count": 24,
   "metadata": {},
   "outputs": [],
   "source": [
    "# all_products2['manufacturer'] = all_products2['name'].str.split(' ').str[0]\n",
    "# This way of obtaining manufacturer names does not work for multiple companies whose names start with 'The', for that reason a function is created to avoid getting those kind of words."
   ]
  },
  {
   "cell_type": "code",
   "execution_count": 25,
   "metadata": {},
   "outputs": [],
   "source": [
    "def extract_manufacturer(name):\n",
    "    # Split the name into words\n",
    "    words = name.split()\n",
    "    \n",
    "    # Exclude some common terms \n",
    "    common_terms = ['The', 'by', 'at', 'from', 'for']\n",
    "    \n",
    "    # Find the first non-common term\n",
    "    for word in words:\n",
    "        if word not in common_terms:\n",
    "            return word\n",
    "    \n",
    "    # Return None if no non-common term is found\n",
    "    return None"
   ]
  },
  {
   "cell_type": "code",
   "execution_count": 26,
   "metadata": {},
   "outputs": [
    {
     "name": "stderr",
     "output_type": "stream",
     "text": [
      "C:\\Users\\juan_\\AppData\\Local\\Temp\\ipykernel_18116\\3912578488.py:1: SettingWithCopyWarning: \n",
      "A value is trying to be set on a copy of a slice from a DataFrame.\n",
      "Try using .loc[row_indexer,col_indexer] = value instead\n",
      "\n",
      "See the caveats in the documentation: https://pandas.pydata.org/pandas-docs/stable/user_guide/indexing.html#returning-a-view-versus-a-copy\n",
      "  all_products2['manufacturer'] = all_products2['name'].apply(extract_manufacturer)\n"
     ]
    },
    {
     "data": {
      "text/html": [
       "<div>\n",
       "<style scoped>\n",
       "    .dataframe tbody tr th:only-of-type {\n",
       "        vertical-align: middle;\n",
       "    }\n",
       "\n",
       "    .dataframe tbody tr th {\n",
       "        vertical-align: top;\n",
       "    }\n",
       "\n",
       "    .dataframe thead th {\n",
       "        text-align: right;\n",
       "    }\n",
       "</style>\n",
       "<table border=\"1\" class=\"dataframe\">\n",
       "  <thead>\n",
       "    <tr style=\"text-align: right;\">\n",
       "      <th></th>\n",
       "      <th>name</th>\n",
       "      <th>main_category</th>\n",
       "      <th>sub_category</th>\n",
       "      <th>image</th>\n",
       "      <th>link</th>\n",
       "      <th>ratings</th>\n",
       "      <th>no_of_ratings</th>\n",
       "      <th>discount_price</th>\n",
       "      <th>actual_price</th>\n",
       "      <th>manufacturer</th>\n",
       "    </tr>\n",
       "  </thead>\n",
       "  <tbody>\n",
       "    <tr>\n",
       "      <th>0</th>\n",
       "      <td>Lloyd 1.5 Ton 3 Star Inverter Split Ac (5 In 1...</td>\n",
       "      <td>appliances</td>\n",
       "      <td>Air Conditioners</td>\n",
       "      <td>https://m.media-amazon.com/images/I/31UISB90sY...</td>\n",
       "      <td>https://www.amazon.in/Lloyd-Inverter-Convertib...</td>\n",
       "      <td>4.2</td>\n",
       "      <td>2255.0</td>\n",
       "      <td>32999.0</td>\n",
       "      <td>58990.0</td>\n",
       "      <td>Lloyd</td>\n",
       "    </tr>\n",
       "    <tr>\n",
       "      <th>1</th>\n",
       "      <td>LG 1.5 Ton 5 Star AI DUAL Inverter Split AC (C...</td>\n",
       "      <td>appliances</td>\n",
       "      <td>Air Conditioners</td>\n",
       "      <td>https://m.media-amazon.com/images/I/51JFb7FctD...</td>\n",
       "      <td>https://www.amazon.in/LG-Convertible-Anti-Viru...</td>\n",
       "      <td>4.2</td>\n",
       "      <td>2948.0</td>\n",
       "      <td>46490.0</td>\n",
       "      <td>75990.0</td>\n",
       "      <td>LG</td>\n",
       "    </tr>\n",
       "  </tbody>\n",
       "</table>\n",
       "</div>"
      ],
      "text/plain": [
       "                                                name main_category  \\\n",
       "0  Lloyd 1.5 Ton 3 Star Inverter Split Ac (5 In 1...    appliances   \n",
       "1  LG 1.5 Ton 5 Star AI DUAL Inverter Split AC (C...    appliances   \n",
       "\n",
       "       sub_category                                              image  \\\n",
       "0  Air Conditioners  https://m.media-amazon.com/images/I/31UISB90sY...   \n",
       "1  Air Conditioners  https://m.media-amazon.com/images/I/51JFb7FctD...   \n",
       "\n",
       "                                                link  ratings  no_of_ratings  \\\n",
       "0  https://www.amazon.in/Lloyd-Inverter-Convertib...      4.2         2255.0   \n",
       "1  https://www.amazon.in/LG-Convertible-Anti-Viru...      4.2         2948.0   \n",
       "\n",
       "   discount_price  actual_price manufacturer  \n",
       "0         32999.0       58990.0        Lloyd  \n",
       "1         46490.0       75990.0           LG  "
      ]
     },
     "execution_count": 26,
     "metadata": {},
     "output_type": "execute_result"
    }
   ],
   "source": [
    "all_products2['manufacturer'] = all_products2['name'].apply(extract_manufacturer)\n",
    "all_products2.head(2)"
   ]
  },
  {
   "cell_type": "code",
   "execution_count": 27,
   "metadata": {},
   "outputs": [
    {
     "data": {
      "text/plain": [
       "['name',\n",
       " 'main_category',\n",
       " 'sub_category',\n",
       " 'image',\n",
       " 'link',\n",
       " 'ratings',\n",
       " 'no_of_ratings',\n",
       " 'discount_price',\n",
       " 'actual_price',\n",
       " 'manufacturer']"
      ]
     },
     "execution_count": 27,
     "metadata": {},
     "output_type": "execute_result"
    }
   ],
   "source": [
    "# It is more convenient to have the manufacturer column at the beginning of the dataframe\n",
    "cols = all_products2.columns.tolist()\n",
    "cols"
   ]
  },
  {
   "cell_type": "code",
   "execution_count": 28,
   "metadata": {},
   "outputs": [],
   "source": [
    "cols = ['name',\n",
    " 'manufacturer',\n",
    " 'main_category',\n",
    " 'sub_category',\n",
    " 'image',\n",
    " 'link',\n",
    " 'ratings',\n",
    " 'no_of_ratings',\n",
    " 'discount_price',\n",
    " 'actual_price']"
   ]
  },
  {
   "cell_type": "code",
   "execution_count": 29,
   "metadata": {},
   "outputs": [
    {
     "name": "stdout",
     "output_type": "stream",
     "text": [
      "<class 'pandas.core.frame.DataFrame'>\n",
      "Index: 334963 entries, 0 to 551584\n",
      "Data columns (total 10 columns):\n",
      " #   Column          Non-Null Count   Dtype  \n",
      "---  ------          --------------   -----  \n",
      " 0   name            334963 non-null  object \n",
      " 1   manufacturer    334963 non-null  object \n",
      " 2   main_category   334963 non-null  object \n",
      " 3   sub_category    334963 non-null  object \n",
      " 4   image           334963 non-null  object \n",
      " 5   link            334963 non-null  object \n",
      " 6   ratings         334963 non-null  float64\n",
      " 7   no_of_ratings   334963 non-null  float64\n",
      " 8   discount_price  334963 non-null  float64\n",
      " 9   actual_price    334963 non-null  float64\n",
      "dtypes: float64(4), object(6)\n",
      "memory usage: 28.1+ MB\n"
     ]
    }
   ],
   "source": [
    "all_products2 = all_products2[cols]\n",
    "all_products2.info()"
   ]
  },
  {
   "cell_type": "markdown",
   "metadata": {},
   "source": [
    "### Extract the net discount amount and discount percentage"
   ]
  },
  {
   "cell_type": "code",
   "execution_count": 30,
   "metadata": {},
   "outputs": [
    {
     "data": {
      "text/html": [
       "<div>\n",
       "<style scoped>\n",
       "    .dataframe tbody tr th:only-of-type {\n",
       "        vertical-align: middle;\n",
       "    }\n",
       "\n",
       "    .dataframe tbody tr th {\n",
       "        vertical-align: top;\n",
       "    }\n",
       "\n",
       "    .dataframe thead th {\n",
       "        text-align: right;\n",
       "    }\n",
       "</style>\n",
       "<table border=\"1\" class=\"dataframe\">\n",
       "  <thead>\n",
       "    <tr style=\"text-align: right;\">\n",
       "      <th></th>\n",
       "      <th>name</th>\n",
       "      <th>manufacturer</th>\n",
       "      <th>main_category</th>\n",
       "      <th>sub_category</th>\n",
       "      <th>image</th>\n",
       "      <th>link</th>\n",
       "      <th>ratings</th>\n",
       "      <th>no_of_ratings</th>\n",
       "      <th>discount_price</th>\n",
       "      <th>actual_price</th>\n",
       "      <th>net_discount</th>\n",
       "      <th>discount_percent</th>\n",
       "    </tr>\n",
       "  </thead>\n",
       "  <tbody>\n",
       "    <tr>\n",
       "      <th>0</th>\n",
       "      <td>Lloyd 1.5 Ton 3 Star Inverter Split Ac (5 In 1...</td>\n",
       "      <td>Lloyd</td>\n",
       "      <td>appliances</td>\n",
       "      <td>Air Conditioners</td>\n",
       "      <td>https://m.media-amazon.com/images/I/31UISB90sY...</td>\n",
       "      <td>https://www.amazon.in/Lloyd-Inverter-Convertib...</td>\n",
       "      <td>4.2</td>\n",
       "      <td>2255.0</td>\n",
       "      <td>32999.0</td>\n",
       "      <td>58990.0</td>\n",
       "      <td>25991.0</td>\n",
       "      <td>0.440600</td>\n",
       "    </tr>\n",
       "    <tr>\n",
       "      <th>1</th>\n",
       "      <td>LG 1.5 Ton 5 Star AI DUAL Inverter Split AC (C...</td>\n",
       "      <td>LG</td>\n",
       "      <td>appliances</td>\n",
       "      <td>Air Conditioners</td>\n",
       "      <td>https://m.media-amazon.com/images/I/51JFb7FctD...</td>\n",
       "      <td>https://www.amazon.in/LG-Convertible-Anti-Viru...</td>\n",
       "      <td>4.2</td>\n",
       "      <td>2948.0</td>\n",
       "      <td>46490.0</td>\n",
       "      <td>75990.0</td>\n",
       "      <td>29500.0</td>\n",
       "      <td>0.388209</td>\n",
       "    </tr>\n",
       "  </tbody>\n",
       "</table>\n",
       "</div>"
      ],
      "text/plain": [
       "                                                name manufacturer  \\\n",
       "0  Lloyd 1.5 Ton 3 Star Inverter Split Ac (5 In 1...        Lloyd   \n",
       "1  LG 1.5 Ton 5 Star AI DUAL Inverter Split AC (C...           LG   \n",
       "\n",
       "  main_category      sub_category  \\\n",
       "0    appliances  Air Conditioners   \n",
       "1    appliances  Air Conditioners   \n",
       "\n",
       "                                               image  \\\n",
       "0  https://m.media-amazon.com/images/I/31UISB90sY...   \n",
       "1  https://m.media-amazon.com/images/I/51JFb7FctD...   \n",
       "\n",
       "                                                link  ratings  no_of_ratings  \\\n",
       "0  https://www.amazon.in/Lloyd-Inverter-Convertib...      4.2         2255.0   \n",
       "1  https://www.amazon.in/LG-Convertible-Anti-Viru...      4.2         2948.0   \n",
       "\n",
       "   discount_price  actual_price  net_discount  discount_percent  \n",
       "0         32999.0       58990.0       25991.0          0.440600  \n",
       "1         46490.0       75990.0       29500.0          0.388209  "
      ]
     },
     "execution_count": 30,
     "metadata": {},
     "output_type": "execute_result"
    }
   ],
   "source": [
    "all_products2['net_discount'] = all_products2['actual_price'] - all_products2['discount_price']\n",
    "all_products2['discount_percent'] = 1 - all_products2['discount_price']/all_products2['actual_price']\n",
    "all_products2.head(2)"
   ]
  },
  {
   "cell_type": "markdown",
   "metadata": {},
   "source": [
    "### Info about manufactures and their prices"
   ]
  },
  {
   "cell_type": "code",
   "execution_count": 31,
   "metadata": {},
   "outputs": [
    {
     "data": {
      "text/html": [
       "<div>\n",
       "<style scoped>\n",
       "    .dataframe tbody tr th:only-of-type {\n",
       "        vertical-align: middle;\n",
       "    }\n",
       "\n",
       "    .dataframe tbody tr th {\n",
       "        vertical-align: top;\n",
       "    }\n",
       "\n",
       "    .dataframe thead th {\n",
       "        text-align: right;\n",
       "    }\n",
       "</style>\n",
       "<table border=\"1\" class=\"dataframe\">\n",
       "  <thead>\n",
       "    <tr style=\"text-align: right;\">\n",
       "      <th></th>\n",
       "      <th>mean_price</th>\n",
       "    </tr>\n",
       "    <tr>\n",
       "      <th>manufacturer</th>\n",
       "      <th></th>\n",
       "    </tr>\n",
       "  </thead>\n",
       "  <tbody>\n",
       "    <tr>\n",
       "      <th>Marutivilla</th>\n",
       "      <td>4.950001e+09</td>\n",
       "    </tr>\n",
       "    <tr>\n",
       "      <th>DENON</th>\n",
       "      <td>2.129000e+05</td>\n",
       "    </tr>\n",
       "    <tr>\n",
       "      <th>IMALENT</th>\n",
       "      <td>1.900000e+05</td>\n",
       "    </tr>\n",
       "    <tr>\n",
       "      <th>XGIMI</th>\n",
       "      <td>1.899077e+05</td>\n",
       "    </tr>\n",
       "    <tr>\n",
       "      <th>Mijia</th>\n",
       "      <td>1.849990e+05</td>\n",
       "    </tr>\n",
       "    <tr>\n",
       "      <th>...</th>\n",
       "      <td>...</td>\n",
       "    </tr>\n",
       "    <tr>\n",
       "      <th>Too</th>\n",
       "      <td>2.000000e+01</td>\n",
       "    </tr>\n",
       "    <tr>\n",
       "      <th>Sprite,</th>\n",
       "      <td>2.000000e+01</td>\n",
       "    </tr>\n",
       "    <tr>\n",
       "      <th>BRU</th>\n",
       "      <td>1.000000e+01</td>\n",
       "    </tr>\n",
       "    <tr>\n",
       "      <th>Kurkure</th>\n",
       "      <td>1.000000e+01</td>\n",
       "    </tr>\n",
       "    <tr>\n",
       "      <th>Bingo!</th>\n",
       "      <td>1.000000e+01</td>\n",
       "    </tr>\n",
       "  </tbody>\n",
       "</table>\n",
       "<p>37802 rows × 1 columns</p>\n",
       "</div>"
      ],
      "text/plain": [
       "                mean_price\n",
       "manufacturer              \n",
       "Marutivilla   4.950001e+09\n",
       "DENON         2.129000e+05\n",
       "IMALENT       1.900000e+05\n",
       "XGIMI         1.899077e+05\n",
       "Mijia         1.849990e+05\n",
       "...                    ...\n",
       "Too           2.000000e+01\n",
       "Sprite,       2.000000e+01\n",
       "BRU           1.000000e+01\n",
       "Kurkure       1.000000e+01\n",
       "Bingo!        1.000000e+01\n",
       "\n",
       "[37802 rows x 1 columns]"
      ]
     },
     "execution_count": 31,
     "metadata": {},
     "output_type": "execute_result"
    }
   ],
   "source": [
    "# Manufactures and their average product prices\n",
    "all_products2.groupby('manufacturer').agg(mean_price = ('actual_price','mean')).sort_values(by='mean_price', ascending=False)"
   ]
  },
  {
   "cell_type": "code",
   "execution_count": 32,
   "metadata": {},
   "outputs": [
    {
     "data": {
      "text/html": [
       "<div>\n",
       "<style scoped>\n",
       "    .dataframe tbody tr th:only-of-type {\n",
       "        vertical-align: middle;\n",
       "    }\n",
       "\n",
       "    .dataframe tbody tr th {\n",
       "        vertical-align: top;\n",
       "    }\n",
       "\n",
       "    .dataframe thead th {\n",
       "        text-align: right;\n",
       "    }\n",
       "</style>\n",
       "<table border=\"1\" class=\"dataframe\">\n",
       "  <thead>\n",
       "    <tr style=\"text-align: right;\">\n",
       "      <th></th>\n",
       "      <th>name</th>\n",
       "      <th>manufacturer</th>\n",
       "      <th>main_category</th>\n",
       "      <th>sub_category</th>\n",
       "      <th>image</th>\n",
       "      <th>link</th>\n",
       "      <th>ratings</th>\n",
       "      <th>no_of_ratings</th>\n",
       "      <th>discount_price</th>\n",
       "      <th>actual_price</th>\n",
       "      <th>net_discount</th>\n",
       "      <th>discount_percent</th>\n",
       "    </tr>\n",
       "  </thead>\n",
       "  <tbody>\n",
       "    <tr>\n",
       "      <th>194625</th>\n",
       "      <td>Marutivilla Insect Killer, Mosquito Killer Lig...</td>\n",
       "      <td>Marutivilla</td>\n",
       "      <td>home &amp; kitchen</td>\n",
       "      <td>Garden &amp; Outdoors</td>\n",
       "      <td>https://m.media-amazon.com/images/W/IMAGERENDE...</td>\n",
       "      <td>https://www.amazon.in/Marutivilla-Mosquito-Suc...</td>\n",
       "      <td>2.0</td>\n",
       "      <td>1.0</td>\n",
       "      <td>589.0</td>\n",
       "      <td>9.900000e+09</td>\n",
       "      <td>9.899999e+09</td>\n",
       "      <td>1.0</td>\n",
       "    </tr>\n",
       "  </tbody>\n",
       "</table>\n",
       "</div>"
      ],
      "text/plain": [
       "                                                     name manufacturer  \\\n",
       "194625  Marutivilla Insect Killer, Mosquito Killer Lig...  Marutivilla   \n",
       "\n",
       "         main_category       sub_category  \\\n",
       "194625  home & kitchen  Garden & Outdoors   \n",
       "\n",
       "                                                    image  \\\n",
       "194625  https://m.media-amazon.com/images/W/IMAGERENDE...   \n",
       "\n",
       "                                                     link  ratings  \\\n",
       "194625  https://www.amazon.in/Marutivilla-Mosquito-Suc...      2.0   \n",
       "\n",
       "        no_of_ratings  discount_price  actual_price  net_discount  \\\n",
       "194625            1.0           589.0  9.900000e+09  9.899999e+09   \n",
       "\n",
       "        discount_percent  \n",
       "194625               1.0  "
      ]
     },
     "execution_count": 32,
     "metadata": {},
     "output_type": "execute_result"
    }
   ],
   "source": [
    "# Most expensive product\n",
    "all_products2[all_products2['actual_price'] == all_products2['actual_price'].max()]#['name']"
   ]
  },
  {
   "cell_type": "code",
   "execution_count": 33,
   "metadata": {},
   "outputs": [
    {
     "data": {
      "text/html": [
       "<div>\n",
       "<style scoped>\n",
       "    .dataframe tbody tr th:only-of-type {\n",
       "        vertical-align: middle;\n",
       "    }\n",
       "\n",
       "    .dataframe tbody tr th {\n",
       "        vertical-align: top;\n",
       "    }\n",
       "\n",
       "    .dataframe thead th {\n",
       "        text-align: right;\n",
       "    }\n",
       "</style>\n",
       "<table border=\"1\" class=\"dataframe\">\n",
       "  <thead>\n",
       "    <tr style=\"text-align: right;\">\n",
       "      <th></th>\n",
       "      <th>name</th>\n",
       "      <th>manufacturer</th>\n",
       "      <th>main_category</th>\n",
       "      <th>sub_category</th>\n",
       "      <th>image</th>\n",
       "      <th>link</th>\n",
       "      <th>ratings</th>\n",
       "      <th>no_of_ratings</th>\n",
       "      <th>discount_price</th>\n",
       "      <th>actual_price</th>\n",
       "      <th>net_discount</th>\n",
       "      <th>discount_percent</th>\n",
       "    </tr>\n",
       "  </thead>\n",
       "  <tbody>\n",
       "    <tr>\n",
       "      <th>23172</th>\n",
       "      <td>Bingo! Tedhe Medhe Masala Tadka, 50g, Spindle ...</td>\n",
       "      <td>Bingo!</td>\n",
       "      <td>grocery &amp; gourmet foods</td>\n",
       "      <td>All Grocery &amp; Gourmet Foods</td>\n",
       "      <td>https://m.media-amazon.com/images/W/IMAGERENDE...</td>\n",
       "      <td>https://www.amazon.in/Bingo-Tedhe-Medhe-Masala...</td>\n",
       "      <td>4.5</td>\n",
       "      <td>289.0</td>\n",
       "      <td>9.0</td>\n",
       "      <td>10.0</td>\n",
       "      <td>1.0</td>\n",
       "      <td>0.1</td>\n",
       "    </tr>\n",
       "    <tr>\n",
       "      <th>124233</th>\n",
       "      <td>BRU Instant Coffee Sachet,Ground, 8g</td>\n",
       "      <td>BRU</td>\n",
       "      <td>grocery &amp; gourmet foods</td>\n",
       "      <td>Coffee, Tea &amp; Beverages</td>\n",
       "      <td>https://m.media-amazon.com/images/I/61nqvhwCKp...</td>\n",
       "      <td>https://www.amazon.in/BRU-Instant-Coffee-Sache...</td>\n",
       "      <td>4.0</td>\n",
       "      <td>7.0</td>\n",
       "      <td>8.0</td>\n",
       "      <td>10.0</td>\n",
       "      <td>2.0</td>\n",
       "      <td>0.2</td>\n",
       "    </tr>\n",
       "    <tr>\n",
       "      <th>268602</th>\n",
       "      <td>Rin Detergent Bar - 165g</td>\n",
       "      <td>Rin</td>\n",
       "      <td>beauty &amp; health</td>\n",
       "      <td>Household Supplies</td>\n",
       "      <td>https://m.media-amazon.com/images/I/81ufvQZfLH...</td>\n",
       "      <td>https://www.amazon.in/RIN-Invictus_RiDBa165g-R...</td>\n",
       "      <td>4.0</td>\n",
       "      <td>44.0</td>\n",
       "      <td>9.0</td>\n",
       "      <td>10.0</td>\n",
       "      <td>1.0</td>\n",
       "      <td>0.1</td>\n",
       "    </tr>\n",
       "    <tr>\n",
       "      <th>437600</th>\n",
       "      <td>Kurkure Yummy Cheese Puffcorn Namkeen, 28g</td>\n",
       "      <td>Kurkure</td>\n",
       "      <td>grocery &amp; gourmet foods</td>\n",
       "      <td>Snack Foods</td>\n",
       "      <td>https://m.media-amazon.com/images/I/71SjZUrMws...</td>\n",
       "      <td>https://www.amazon.in/Kurkure-Yummy-Cheese-Puf...</td>\n",
       "      <td>4.4</td>\n",
       "      <td>1485.0</td>\n",
       "      <td>9.0</td>\n",
       "      <td>10.0</td>\n",
       "      <td>1.0</td>\n",
       "      <td>0.1</td>\n",
       "    </tr>\n",
       "    <tr>\n",
       "      <th>437604</th>\n",
       "      <td>Lay's Potato Chips 24g/27g, West Indies Hot 'n...</td>\n",
       "      <td>Lay's</td>\n",
       "      <td>grocery &amp; gourmet foods</td>\n",
       "      <td>Snack Foods</td>\n",
       "      <td>https://m.media-amazon.com/images/I/718mIkrmCf...</td>\n",
       "      <td>https://www.amazon.in/Lays-Sweet-Chilli-Potato...</td>\n",
       "      <td>4.3</td>\n",
       "      <td>864.0</td>\n",
       "      <td>9.0</td>\n",
       "      <td>10.0</td>\n",
       "      <td>1.0</td>\n",
       "      <td>0.1</td>\n",
       "    </tr>\n",
       "    <tr>\n",
       "      <th>437916</th>\n",
       "      <td>Cadbury Oreo Original Vanilla Creme Biscuit, 4...</td>\n",
       "      <td>Cadbury</td>\n",
       "      <td>grocery &amp; gourmet foods</td>\n",
       "      <td>Snack Foods</td>\n",
       "      <td>https://m.media-amazon.com/images/W/IMAGERENDE...</td>\n",
       "      <td>https://www.amazon.in/Cadbury-Oreo-Vanilla-Cr%...</td>\n",
       "      <td>4.4</td>\n",
       "      <td>1353.0</td>\n",
       "      <td>9.0</td>\n",
       "      <td>10.0</td>\n",
       "      <td>1.0</td>\n",
       "      <td>0.1</td>\n",
       "    </tr>\n",
       "  </tbody>\n",
       "</table>\n",
       "</div>"
      ],
      "text/plain": [
       "                                                     name manufacturer  \\\n",
       "23172   Bingo! Tedhe Medhe Masala Tadka, 50g, Spindle ...       Bingo!   \n",
       "124233               BRU Instant Coffee Sachet,Ground, 8g          BRU   \n",
       "268602                           Rin Detergent Bar - 165g          Rin   \n",
       "437600         Kurkure Yummy Cheese Puffcorn Namkeen, 28g      Kurkure   \n",
       "437604  Lay's Potato Chips 24g/27g, West Indies Hot 'n...        Lay's   \n",
       "437916  Cadbury Oreo Original Vanilla Creme Biscuit, 4...      Cadbury   \n",
       "\n",
       "                  main_category                 sub_category  \\\n",
       "23172   grocery & gourmet foods  All Grocery & Gourmet Foods   \n",
       "124233  grocery & gourmet foods      Coffee, Tea & Beverages   \n",
       "268602          beauty & health           Household Supplies   \n",
       "437600  grocery & gourmet foods                  Snack Foods   \n",
       "437604  grocery & gourmet foods                  Snack Foods   \n",
       "437916  grocery & gourmet foods                  Snack Foods   \n",
       "\n",
       "                                                    image  \\\n",
       "23172   https://m.media-amazon.com/images/W/IMAGERENDE...   \n",
       "124233  https://m.media-amazon.com/images/I/61nqvhwCKp...   \n",
       "268602  https://m.media-amazon.com/images/I/81ufvQZfLH...   \n",
       "437600  https://m.media-amazon.com/images/I/71SjZUrMws...   \n",
       "437604  https://m.media-amazon.com/images/I/718mIkrmCf...   \n",
       "437916  https://m.media-amazon.com/images/W/IMAGERENDE...   \n",
       "\n",
       "                                                     link  ratings  \\\n",
       "23172   https://www.amazon.in/Bingo-Tedhe-Medhe-Masala...      4.5   \n",
       "124233  https://www.amazon.in/BRU-Instant-Coffee-Sache...      4.0   \n",
       "268602  https://www.amazon.in/RIN-Invictus_RiDBa165g-R...      4.0   \n",
       "437600  https://www.amazon.in/Kurkure-Yummy-Cheese-Puf...      4.4   \n",
       "437604  https://www.amazon.in/Lays-Sweet-Chilli-Potato...      4.3   \n",
       "437916  https://www.amazon.in/Cadbury-Oreo-Vanilla-Cr%...      4.4   \n",
       "\n",
       "        no_of_ratings  discount_price  actual_price  net_discount  \\\n",
       "23172           289.0             9.0          10.0           1.0   \n",
       "124233            7.0             8.0          10.0           2.0   \n",
       "268602           44.0             9.0          10.0           1.0   \n",
       "437600         1485.0             9.0          10.0           1.0   \n",
       "437604          864.0             9.0          10.0           1.0   \n",
       "437916         1353.0             9.0          10.0           1.0   \n",
       "\n",
       "        discount_percent  \n",
       "23172                0.1  \n",
       "124233               0.2  \n",
       "268602               0.1  \n",
       "437600               0.1  \n",
       "437604               0.1  \n",
       "437916               0.1  "
      ]
     },
     "execution_count": 33,
     "metadata": {},
     "output_type": "execute_result"
    }
   ],
   "source": [
    "# Cheapest product/products\n",
    "all_products2[all_products2['actual_price'] == all_products2['actual_price'].min()]"
   ]
  },
  {
   "cell_type": "markdown",
   "metadata": {},
   "source": [
    "### TOP10 Most popular manufacturers:"
   ]
  },
  {
   "cell_type": "code",
   "execution_count": 34,
   "metadata": {},
   "outputs": [],
   "source": [
    "top10_manufacturers = all_products2['manufacturer'].value_counts().keys().to_list()[:10]\n",
    "top10_values = all_products2['manufacturer'].value_counts().to_list()[:10]"
   ]
  },
  {
   "cell_type": "code",
   "execution_count": 35,
   "metadata": {},
   "outputs": [
    {
     "data": {
      "image/png": "[encoded data removed]",
      "text/plain": [
       "<Figure size 640x480 with 1 Axes>"
      ]
     },
     "metadata": {},
     "output_type": "display_data"
    }
   ],
   "source": [
    "sns.barplot(x = top10_manufacturers, y = top10_values, color='orange', zorder = 2) # zorder keeps horizontal lines behind the bars\n",
    "plt.grid(axis='y', linestyle='--', alpha=0.5, zorder = 1, color='grey')\n",
    "plt.xlabel('Manufacturers')\n",
    "plt.ylabel('nº items')\n",
    "plt.title('Top 10 Manufacturers in Amazon', fontweight='bold')\n",
    "plt.xticks(rotation=45, ha='right')\n",
    "plt.show()"
   ]
  },
  {
   "cell_type": "markdown",
   "metadata": {},
   "source": [
    "According to the bar chart above, Puma is the most popular manufacturer."
   ]
  },
  {
   "cell_type": "markdown",
   "metadata": {},
   "source": [
    "### Average rating in top 10 manufacturers:"
   ]
  },
  {
   "cell_type": "code",
   "execution_count": 36,
   "metadata": {},
   "outputs": [
    {
     "data": {
      "text/html": [
       "<div>\n",
       "<style scoped>\n",
       "    .dataframe tbody tr th:only-of-type {\n",
       "        vertical-align: middle;\n",
       "    }\n",
       "\n",
       "    .dataframe tbody tr th {\n",
       "        vertical-align: top;\n",
       "    }\n",
       "\n",
       "    .dataframe thead th {\n",
       "        text-align: right;\n",
       "    }\n",
       "</style>\n",
       "<table border=\"1\" class=\"dataframe\">\n",
       "  <thead>\n",
       "    <tr style=\"text-align: right;\">\n",
       "      <th></th>\n",
       "      <th>name</th>\n",
       "      <th>manufacturer</th>\n",
       "      <th>main_category</th>\n",
       "      <th>sub_category</th>\n",
       "      <th>image</th>\n",
       "      <th>link</th>\n",
       "      <th>ratings</th>\n",
       "      <th>no_of_ratings</th>\n",
       "      <th>discount_price</th>\n",
       "      <th>actual_price</th>\n",
       "      <th>net_discount</th>\n",
       "      <th>discount_percent</th>\n",
       "    </tr>\n",
       "  </thead>\n",
       "  <tbody>\n",
       "    <tr>\n",
       "      <th>65</th>\n",
       "      <td>Amazon Basics 1 Ton, 5 Star, Wi-Fi Enabled Sma...</td>\n",
       "      <td>Amazon</td>\n",
       "      <td>appliances</td>\n",
       "      <td>Air Conditioners</td>\n",
       "      <td>https://m.media-amazon.com/images/I/51s3yrWntM...</td>\n",
       "      <td>https://www.amazon.in/AmazonBasics-1-5-Ton-Air...</td>\n",
       "      <td>3.6</td>\n",
       "      <td>88.0</td>\n",
       "      <td>28990.00</td>\n",
       "      <td>49089.0</td>\n",
       "      <td>20099.00</td>\n",
       "      <td>0.409440</td>\n",
       "    </tr>\n",
       "    <tr>\n",
       "      <th>83</th>\n",
       "      <td>Amazon Basics 1.5 Ton, 5 Star, Wi-Fi Enabled S...</td>\n",
       "      <td>Amazon</td>\n",
       "      <td>appliances</td>\n",
       "      <td>Air Conditioners</td>\n",
       "      <td>https://m.media-amazon.com/images/I/51s3yrWntM...</td>\n",
       "      <td>https://www.amazon.in/AmazonBasics-1-5-Ton-Air...</td>\n",
       "      <td>3.4</td>\n",
       "      <td>39.0</td>\n",
       "      <td>34990.00</td>\n",
       "      <td>56179.0</td>\n",
       "      <td>21189.00</td>\n",
       "      <td>0.377169</td>\n",
       "    </tr>\n",
       "    <tr>\n",
       "      <th>112</th>\n",
       "      <td>Amazon Basics 1 Ton 4 Star Fixed Speed Window ...</td>\n",
       "      <td>Amazon</td>\n",
       "      <td>appliances</td>\n",
       "      <td>Air Conditioners</td>\n",
       "      <td>https://m.media-amazon.com/images/I/91BcgKPL5x...</td>\n",
       "      <td>https://www.amazon.in/AmazonBasics-1-5-Ton-Air...</td>\n",
       "      <td>3.5</td>\n",
       "      <td>14.0</td>\n",
       "      <td>25490.00</td>\n",
       "      <td>33990.0</td>\n",
       "      <td>8500.00</td>\n",
       "      <td>0.250074</td>\n",
       "    </tr>\n",
       "    <tr>\n",
       "      <th>1057</th>\n",
       "      <td>Amazon Basics 300 W Hand Blender with Stainles...</td>\n",
       "      <td>Amazon</td>\n",
       "      <td>appliances</td>\n",
       "      <td>All Appliances</td>\n",
       "      <td>https://m.media-amazon.com/images/I/517er3i6s6...</td>\n",
       "      <td>https://www.amazon.in/Amazon-Basics-Stainless-...</td>\n",
       "      <td>4.0</td>\n",
       "      <td>182.0</td>\n",
       "      <td>899.00</td>\n",
       "      <td>1999.0</td>\n",
       "      <td>1100.00</td>\n",
       "      <td>0.550275</td>\n",
       "    </tr>\n",
       "    <tr>\n",
       "      <th>1093</th>\n",
       "      <td>Amazon Brand Solimo Laundry Basket with Lid, 5...</td>\n",
       "      <td>Amazon</td>\n",
       "      <td>appliances</td>\n",
       "      <td>All Appliances</td>\n",
       "      <td>https://m.media-amazon.com/images/I/81WR7HNbOC...</td>\n",
       "      <td>https://www.amazon.in/Amazon-Brand-Solimo-Laun...</td>\n",
       "      <td>2.6</td>\n",
       "      <td>39.0</td>\n",
       "      <td>829.00</td>\n",
       "      <td>1059.0</td>\n",
       "      <td>230.00</td>\n",
       "      <td>0.217186</td>\n",
       "    </tr>\n",
       "    <tr>\n",
       "      <th>...</th>\n",
       "      <td>...</td>\n",
       "      <td>...</td>\n",
       "      <td>...</td>\n",
       "      <td>...</td>\n",
       "      <td>...</td>\n",
       "      <td>...</td>\n",
       "      <td>...</td>\n",
       "      <td>...</td>\n",
       "      <td>...</td>\n",
       "      <td>...</td>\n",
       "      <td>...</td>\n",
       "      <td>...</td>\n",
       "    </tr>\n",
       "    <tr>\n",
       "      <th>551547</th>\n",
       "      <td>Adidas Men's Cotton Mhs Fz Sta Track Tops (H16...</td>\n",
       "      <td>Adidas</td>\n",
       "      <td>sports &amp; fitness</td>\n",
       "      <td>Yoga</td>\n",
       "      <td>https://m.media-amazon.com/images/I/81xR72S349...</td>\n",
       "      <td>https://www.amazon.in/Adidas-Cotton-Track-H166...</td>\n",
       "      <td>3.6</td>\n",
       "      <td>5.0</td>\n",
       "      <td>1449.00</td>\n",
       "      <td>4599.0</td>\n",
       "      <td>3150.00</td>\n",
       "      <td>0.684932</td>\n",
       "    </tr>\n",
       "    <tr>\n",
       "      <th>551549</th>\n",
       "      <td>Adidas Men's Standard</td>\n",
       "      <td>Adidas</td>\n",
       "      <td>sports &amp; fitness</td>\n",
       "      <td>Yoga</td>\n",
       "      <td>https://m.media-amazon.com/images/I/61nxNPQMxv...</td>\n",
       "      <td>https://www.amazon.in/Adidas-Polyester-Track-H...</td>\n",
       "      <td>3.0</td>\n",
       "      <td>2.0</td>\n",
       "      <td>4949.00</td>\n",
       "      <td>6599.0</td>\n",
       "      <td>1650.00</td>\n",
       "      <td>0.250038</td>\n",
       "    </tr>\n",
       "    <tr>\n",
       "      <th>551568</th>\n",
       "      <td>Adidas Men's Standard</td>\n",
       "      <td>Adidas</td>\n",
       "      <td>sports &amp; fitness</td>\n",
       "      <td>Yoga</td>\n",
       "      <td>https://m.media-amazon.com/images/I/715IyINuD-...</td>\n",
       "      <td>https://www.amazon.in/Adidas-Polyester-Tkjkt-T...</td>\n",
       "      <td>3.4</td>\n",
       "      <td>16.0</td>\n",
       "      <td>1349.00</td>\n",
       "      <td>4299.0</td>\n",
       "      <td>2950.00</td>\n",
       "      <td>0.686206</td>\n",
       "    </tr>\n",
       "    <tr>\n",
       "      <th>551572</th>\n",
       "      <td>Amazon Brand - Symactive Men Shorts</td>\n",
       "      <td>Amazon</td>\n",
       "      <td>sports &amp; fitness</td>\n",
       "      <td>Yoga</td>\n",
       "      <td>https://m.media-amazon.com/images/I/81q+k3dsJg...</td>\n",
       "      <td>https://www.amazon.in/Amazon-Brand-Symactive-P...</td>\n",
       "      <td>5.0</td>\n",
       "      <td>2.0</td>\n",
       "      <td>655.04</td>\n",
       "      <td>2399.0</td>\n",
       "      <td>1743.96</td>\n",
       "      <td>0.726953</td>\n",
       "    </tr>\n",
       "    <tr>\n",
       "      <th>551580</th>\n",
       "      <td>Adidas Regular Fit Men's Track Tops</td>\n",
       "      <td>Adidas</td>\n",
       "      <td>sports &amp; fitness</td>\n",
       "      <td>Yoga</td>\n",
       "      <td>https://m.media-amazon.com/images/I/71tHAR9pIY...</td>\n",
       "      <td>https://www.amazon.in/Adidas-Regular-Mens-Trac...</td>\n",
       "      <td>3.2</td>\n",
       "      <td>9.0</td>\n",
       "      <td>3449.00</td>\n",
       "      <td>4599.0</td>\n",
       "      <td>1150.00</td>\n",
       "      <td>0.250054</td>\n",
       "    </tr>\n",
       "  </tbody>\n",
       "</table>\n",
       "<p>19848 rows × 12 columns</p>\n",
       "</div>"
      ],
      "text/plain": [
       "                                                     name manufacturer  \\\n",
       "65      Amazon Basics 1 Ton, 5 Star, Wi-Fi Enabled Sma...       Amazon   \n",
       "83      Amazon Basics 1.5 Ton, 5 Star, Wi-Fi Enabled S...       Amazon   \n",
       "112     Amazon Basics 1 Ton 4 Star Fixed Speed Window ...       Amazon   \n",
       "1057    Amazon Basics 300 W Hand Blender with Stainles...       Amazon   \n",
       "1093    Amazon Brand Solimo Laundry Basket with Lid, 5...       Amazon   \n",
       "...                                                   ...          ...   \n",
       "551547  Adidas Men's Cotton Mhs Fz Sta Track Tops (H16...       Adidas   \n",
       "551549                              Adidas Men's Standard       Adidas   \n",
       "551568                              Adidas Men's Standard       Adidas   \n",
       "551572                Amazon Brand - Symactive Men Shorts       Amazon   \n",
       "551580                Adidas Regular Fit Men's Track Tops       Adidas   \n",
       "\n",
       "           main_category      sub_category  \\\n",
       "65            appliances  Air Conditioners   \n",
       "83            appliances  Air Conditioners   \n",
       "112           appliances  Air Conditioners   \n",
       "1057          appliances    All Appliances   \n",
       "1093          appliances    All Appliances   \n",
       "...                  ...               ...   \n",
       "551547  sports & fitness              Yoga   \n",
       "551549  sports & fitness              Yoga   \n",
       "551568  sports & fitness              Yoga   \n",
       "551572  sports & fitness              Yoga   \n",
       "551580  sports & fitness              Yoga   \n",
       "\n",
       "                                                    image  \\\n",
       "65      https://m.media-amazon.com/images/I/51s3yrWntM...   \n",
       "83      https://m.media-amazon.com/images/I/51s3yrWntM...   \n",
       "112     https://m.media-amazon.com/images/I/91BcgKPL5x...   \n",
       "1057    https://m.media-amazon.com/images/I/517er3i6s6...   \n",
       "1093    https://m.media-amazon.com/images/I/81WR7HNbOC...   \n",
       "...                                                   ...   \n",
       "551547  https://m.media-amazon.com/images/I/81xR72S349...   \n",
       "551549  https://m.media-amazon.com/images/I/61nxNPQMxv...   \n",
       "551568  https://m.media-amazon.com/images/I/715IyINuD-...   \n",
       "551572  https://m.media-amazon.com/images/I/81q+k3dsJg...   \n",
       "551580  https://m.media-amazon.com/images/I/71tHAR9pIY...   \n",
       "\n",
       "                                                     link  ratings  \\\n",
       "65      https://www.amazon.in/AmazonBasics-1-5-Ton-Air...      3.6   \n",
       "83      https://www.amazon.in/AmazonBasics-1-5-Ton-Air...      3.4   \n",
       "112     https://www.amazon.in/AmazonBasics-1-5-Ton-Air...      3.5   \n",
       "1057    https://www.amazon.in/Amazon-Basics-Stainless-...      4.0   \n",
       "1093    https://www.amazon.in/Amazon-Brand-Solimo-Laun...      2.6   \n",
       "...                                                   ...      ...   \n",
       "551547  https://www.amazon.in/Adidas-Cotton-Track-H166...      3.6   \n",
       "551549  https://www.amazon.in/Adidas-Polyester-Track-H...      3.0   \n",
       "551568  https://www.amazon.in/Adidas-Polyester-Tkjkt-T...      3.4   \n",
       "551572  https://www.amazon.in/Amazon-Brand-Symactive-P...      5.0   \n",
       "551580  https://www.amazon.in/Adidas-Regular-Mens-Trac...      3.2   \n",
       "\n",
       "        no_of_ratings  discount_price  actual_price  net_discount  \\\n",
       "65               88.0        28990.00       49089.0      20099.00   \n",
       "83               39.0        34990.00       56179.0      21189.00   \n",
       "112              14.0        25490.00       33990.0       8500.00   \n",
       "1057            182.0          899.00        1999.0       1100.00   \n",
       "1093             39.0          829.00        1059.0        230.00   \n",
       "...               ...             ...           ...           ...   \n",
       "551547            5.0         1449.00        4599.0       3150.00   \n",
       "551549            2.0         4949.00        6599.0       1650.00   \n",
       "551568           16.0         1349.00        4299.0       2950.00   \n",
       "551572            2.0          655.04        2399.0       1743.96   \n",
       "551580            9.0         3449.00        4599.0       1150.00   \n",
       "\n",
       "        discount_percent  \n",
       "65              0.409440  \n",
       "83              0.377169  \n",
       "112             0.250074  \n",
       "1057            0.550275  \n",
       "1093            0.217186  \n",
       "...                  ...  \n",
       "551547          0.684932  \n",
       "551549          0.250038  \n",
       "551568          0.686206  \n",
       "551572          0.726953  \n",
       "551580          0.250054  \n",
       "\n",
       "[19848 rows x 12 columns]"
      ]
     },
     "execution_count": 36,
     "metadata": {},
     "output_type": "execute_result"
    }
   ],
   "source": [
    "# Creating a dataframe with TOP10 manufacterers:\n",
    "df_top10 = all_products2[all_products2['manufacturer'].isin(top10_manufacturers)]\n",
    "df_top10"
   ]
  },
  {
   "cell_type": "code",
   "execution_count": 37,
   "metadata": {},
   "outputs": [
    {
     "data": {
      "text/html": [
       "<div>\n",
       "<style scoped>\n",
       "    .dataframe tbody tr th:only-of-type {\n",
       "        vertical-align: middle;\n",
       "    }\n",
       "\n",
       "    .dataframe tbody tr th {\n",
       "        vertical-align: top;\n",
       "    }\n",
       "\n",
       "    .dataframe thead th {\n",
       "        text-align: right;\n",
       "    }\n",
       "</style>\n",
       "<table border=\"1\" class=\"dataframe\">\n",
       "  <thead>\n",
       "    <tr style=\"text-align: right;\">\n",
       "      <th></th>\n",
       "      <th>ratings</th>\n",
       "    </tr>\n",
       "    <tr>\n",
       "      <th>manufacturer</th>\n",
       "      <th></th>\n",
       "    </tr>\n",
       "  </thead>\n",
       "  <tbody>\n",
       "    <tr>\n",
       "      <th>Van</th>\n",
       "      <td>3.944422</td>\n",
       "    </tr>\n",
       "    <tr>\n",
       "      <th>Amazon</th>\n",
       "      <td>3.940234</td>\n",
       "    </tr>\n",
       "    <tr>\n",
       "      <th>Puma</th>\n",
       "      <td>3.914077</td>\n",
       "    </tr>\n",
       "    <tr>\n",
       "      <th>Adidas</th>\n",
       "      <td>3.867678</td>\n",
       "    </tr>\n",
       "    <tr>\n",
       "      <th>Levi's</th>\n",
       "      <td>3.855082</td>\n",
       "    </tr>\n",
       "    <tr>\n",
       "      <th>U.S.</th>\n",
       "      <td>3.823259</td>\n",
       "    </tr>\n",
       "    <tr>\n",
       "      <th>Campus</th>\n",
       "      <td>3.812296</td>\n",
       "    </tr>\n",
       "    <tr>\n",
       "      <th>Red</th>\n",
       "      <td>3.731996</td>\n",
       "    </tr>\n",
       "    <tr>\n",
       "      <th>Pepe</th>\n",
       "      <td>3.713827</td>\n",
       "    </tr>\n",
       "    <tr>\n",
       "      <th>Clovia</th>\n",
       "      <td>3.700071</td>\n",
       "    </tr>\n",
       "  </tbody>\n",
       "</table>\n",
       "</div>"
      ],
      "text/plain": [
       "               ratings\n",
       "manufacturer          \n",
       "Van           3.944422\n",
       "Amazon        3.940234\n",
       "Puma          3.914077\n",
       "Adidas        3.867678\n",
       "Levi's        3.855082\n",
       "U.S.          3.823259\n",
       "Campus        3.812296\n",
       "Red           3.731996\n",
       "Pepe          3.713827\n",
       "Clovia        3.700071"
      ]
     },
     "execution_count": 37,
     "metadata": {},
     "output_type": "execute_result"
    }
   ],
   "source": [
    "pd.DataFrame(df_top10.groupby('manufacturer').agg('ratings').mean().sort_values(ascending=False))"
   ]
  },
  {
   "cell_type": "markdown",
   "metadata": {},
   "source": [
    "According with the above information, the highest rated brand is Van, followed by Amazon and Puma."
   ]
  },
  {
   "cell_type": "markdown",
   "metadata": {},
   "source": [
    "### Most popular categories in TOP10 manufacturers:"
   ]
  },
  {
   "cell_type": "code",
   "execution_count": 38,
   "metadata": {},
   "outputs": [
    {
     "data": {
      "text/plain": [
       "array(['appliances', 'car & motorbike', 'tv, audio & cameras',\n",
       "       'sports & fitness', 'grocery & gourmet foods', 'home & kitchen',\n",
       "       'pet supplies', 'stores', \"kids' fashion\", 'toys & baby products',\n",
       "       'bags & luggage', 'accessories', \"women's shoes\",\n",
       "       'beauty & health', \"men's shoes\", \"women's clothing\",\n",
       "       'industrial supplies', \"men's clothing\"], dtype=object)"
      ]
     },
     "execution_count": 38,
     "metadata": {},
     "output_type": "execute_result"
    }
   ],
   "source": [
    "# All categories in top10 manufacturers:\n",
    "df_top10['main_category'].unique()"
   ]
  },
  {
   "cell_type": "code",
   "execution_count": 39,
   "metadata": {},
   "outputs": [],
   "source": [
    "category_names = df_top10['main_category'].value_counts().keys()\n",
    "category_values = df_top10['main_category'].value_counts()"
   ]
  },
  {
   "cell_type": "code",
   "execution_count": 40,
   "metadata": {},
   "outputs": [
    {
     "data": {
      "image/png": "[encoded data removed]",
      "text/plain": [
       "<Figure size 640x480 with 1 Axes>"
      ]
     },
     "metadata": {},
     "output_type": "display_data"
    }
   ],
   "source": [
    "sns.barplot(x=category_names, y=category_values, palette='coolwarm', zorder=2)\n",
    "plt.grid(axis='y', linestyle='--', alpha=0.5, zorder = 1, color='grey')\n",
    "plt.xlabel('Categories in Top10 manufacturers')\n",
    "plt.ylabel('nº items')\n",
    "plt.title('Main categories in Amazon', fontweight='bold')\n",
    "plt.xticks(rotation = 90, ha= 'right')\n",
    "plt.show()"
   ]
  },
  {
   "cell_type": "markdown",
   "metadata": {},
   "source": [
    "The most popular category in Top10 manufacturers is men's clothing.\\\n",
    "Let's create a df with TOP10 most popular manufacturers and 5 most popular categories"
   ]
  },
  {
   "cell_type": "code",
   "execution_count": 41,
   "metadata": {},
   "outputs": [
    {
     "name": "stdout",
     "output_type": "stream",
     "text": [
      "[\"men's clothing\", \"men's shoes\", \"women's clothing\", 'stores', 'sports & fitness']\n",
      "['Puma', 'Amazon', 'Red', 'U.S.', 'Campus', 'Pepe', 'Van', 'Clovia', \"Levi's\", 'Adidas']\n"
     ]
    }
   ],
   "source": [
    "top5_categories = df_top10['main_category'].value_counts().keys().to_list()[:5]\n",
    "print(top5_categories)\n",
    "print(top10_manufacturers)"
   ]
  },
  {
   "cell_type": "code",
   "execution_count": 42,
   "metadata": {},
   "outputs": [
    {
     "data": {
      "text/html": [
       "<div>\n",
       "<style scoped>\n",
       "    .dataframe tbody tr th:only-of-type {\n",
       "        vertical-align: middle;\n",
       "    }\n",
       "\n",
       "    .dataframe tbody tr th {\n",
       "        vertical-align: top;\n",
       "    }\n",
       "\n",
       "    .dataframe thead th {\n",
       "        text-align: right;\n",
       "    }\n",
       "</style>\n",
       "<table border=\"1\" class=\"dataframe\">\n",
       "  <thead>\n",
       "    <tr style=\"text-align: right;\">\n",
       "      <th></th>\n",
       "      <th>name</th>\n",
       "      <th>manufacturer</th>\n",
       "      <th>main_category</th>\n",
       "      <th>sub_category</th>\n",
       "      <th>image</th>\n",
       "      <th>link</th>\n",
       "      <th>ratings</th>\n",
       "      <th>no_of_ratings</th>\n",
       "      <th>discount_price</th>\n",
       "      <th>actual_price</th>\n",
       "      <th>net_discount</th>\n",
       "      <th>discount_percent</th>\n",
       "    </tr>\n",
       "  </thead>\n",
       "  <tbody>\n",
       "    <tr>\n",
       "      <th>21238</th>\n",
       "      <td>Adidas Unisex Low Cut Cotton Blend Socks (Pack...</td>\n",
       "      <td>Adidas</td>\n",
       "      <td>sports &amp; fitness</td>\n",
       "      <td>All Exercise &amp; Fitness</td>\n",
       "      <td>https://m.media-amazon.com/images/I/81GffNsMvx...</td>\n",
       "      <td>https://www.amazon.in/Adidas-Original-Cushion-...</td>\n",
       "      <td>4.0</td>\n",
       "      <td>224.0</td>\n",
       "      <td>539.00</td>\n",
       "      <td>549.0</td>\n",
       "      <td>10.00</td>\n",
       "      <td>0.018215</td>\n",
       "    </tr>\n",
       "    <tr>\n",
       "      <th>21250</th>\n",
       "      <td>Amazon Brand - Symactive Rubber Coated Hex Dum...</td>\n",
       "      <td>Amazon</td>\n",
       "      <td>sports &amp; fitness</td>\n",
       "      <td>All Exercise &amp; Fitness</td>\n",
       "      <td>https://m.media-amazon.com/images/I/81nZnXUMtj...</td>\n",
       "      <td>https://www.amazon.in/Amazon-Brand-Symactive-R...</td>\n",
       "      <td>4.5</td>\n",
       "      <td>511.0</td>\n",
       "      <td>1569.00</td>\n",
       "      <td>3100.0</td>\n",
       "      <td>1531.00</td>\n",
       "      <td>0.493871</td>\n",
       "    </tr>\n",
       "    <tr>\n",
       "      <th>21275</th>\n",
       "      <td>Puma polyester 23 Cms Gym Bag(7572229_Pink_X_Red)</td>\n",
       "      <td>Puma</td>\n",
       "      <td>sports &amp; fitness</td>\n",
       "      <td>All Exercise &amp; Fitness</td>\n",
       "      <td>https://m.media-amazon.com/images/W/IMAGERENDE...</td>\n",
       "      <td>https://www.amazon.in/PUMA-Polyester-Bridal-Ro...</td>\n",
       "      <td>4.1</td>\n",
       "      <td>249.0</td>\n",
       "      <td>789.00</td>\n",
       "      <td>1499.0</td>\n",
       "      <td>710.00</td>\n",
       "      <td>0.473649</td>\n",
       "    </tr>\n",
       "    <tr>\n",
       "      <th>21318</th>\n",
       "      <td>Van Heusen Athleisure Men Regular Fit Track Pa...</td>\n",
       "      <td>Van</td>\n",
       "      <td>sports &amp; fitness</td>\n",
       "      <td>All Exercise &amp; Fitness</td>\n",
       "      <td>https://m.media-amazon.com/images/I/711tuDPz5U...</td>\n",
       "      <td>https://www.amazon.in/Van-Heusen-Cotton-50043_...</td>\n",
       "      <td>4.0</td>\n",
       "      <td>6299.0</td>\n",
       "      <td>909.00</td>\n",
       "      <td>1399.0</td>\n",
       "      <td>490.00</td>\n",
       "      <td>0.350250</td>\n",
       "    </tr>\n",
       "    <tr>\n",
       "      <th>21362</th>\n",
       "      <td>Adidas unisex-adult Socks</td>\n",
       "      <td>Adidas</td>\n",
       "      <td>sports &amp; fitness</td>\n",
       "      <td>All Exercise &amp; Fitness</td>\n",
       "      <td>https://m.media-amazon.com/images/I/71yxNDWaya...</td>\n",
       "      <td>https://www.amazon.in/Adidas-Unisex-Light-Dz93...</td>\n",
       "      <td>4.5</td>\n",
       "      <td>264.0</td>\n",
       "      <td>599.00</td>\n",
       "      <td>999.0</td>\n",
       "      <td>400.00</td>\n",
       "      <td>0.400400</td>\n",
       "    </tr>\n",
       "    <tr>\n",
       "      <th>...</th>\n",
       "      <td>...</td>\n",
       "      <td>...</td>\n",
       "      <td>...</td>\n",
       "      <td>...</td>\n",
       "      <td>...</td>\n",
       "      <td>...</td>\n",
       "      <td>...</td>\n",
       "      <td>...</td>\n",
       "      <td>...</td>\n",
       "      <td>...</td>\n",
       "      <td>...</td>\n",
       "      <td>...</td>\n",
       "    </tr>\n",
       "    <tr>\n",
       "      <th>551547</th>\n",
       "      <td>Adidas Men's Cotton Mhs Fz Sta Track Tops (H16...</td>\n",
       "      <td>Adidas</td>\n",
       "      <td>sports &amp; fitness</td>\n",
       "      <td>Yoga</td>\n",
       "      <td>https://m.media-amazon.com/images/I/81xR72S349...</td>\n",
       "      <td>https://www.amazon.in/Adidas-Cotton-Track-H166...</td>\n",
       "      <td>3.6</td>\n",
       "      <td>5.0</td>\n",
       "      <td>1449.00</td>\n",
       "      <td>4599.0</td>\n",
       "      <td>3150.00</td>\n",
       "      <td>0.684932</td>\n",
       "    </tr>\n",
       "    <tr>\n",
       "      <th>551549</th>\n",
       "      <td>Adidas Men's Standard</td>\n",
       "      <td>Adidas</td>\n",
       "      <td>sports &amp; fitness</td>\n",
       "      <td>Yoga</td>\n",
       "      <td>https://m.media-amazon.com/images/I/61nxNPQMxv...</td>\n",
       "      <td>https://www.amazon.in/Adidas-Polyester-Track-H...</td>\n",
       "      <td>3.0</td>\n",
       "      <td>2.0</td>\n",
       "      <td>4949.00</td>\n",
       "      <td>6599.0</td>\n",
       "      <td>1650.00</td>\n",
       "      <td>0.250038</td>\n",
       "    </tr>\n",
       "    <tr>\n",
       "      <th>551568</th>\n",
       "      <td>Adidas Men's Standard</td>\n",
       "      <td>Adidas</td>\n",
       "      <td>sports &amp; fitness</td>\n",
       "      <td>Yoga</td>\n",
       "      <td>https://m.media-amazon.com/images/I/715IyINuD-...</td>\n",
       "      <td>https://www.amazon.in/Adidas-Polyester-Tkjkt-T...</td>\n",
       "      <td>3.4</td>\n",
       "      <td>16.0</td>\n",
       "      <td>1349.00</td>\n",
       "      <td>4299.0</td>\n",
       "      <td>2950.00</td>\n",
       "      <td>0.686206</td>\n",
       "    </tr>\n",
       "    <tr>\n",
       "      <th>551572</th>\n",
       "      <td>Amazon Brand - Symactive Men Shorts</td>\n",
       "      <td>Amazon</td>\n",
       "      <td>sports &amp; fitness</td>\n",
       "      <td>Yoga</td>\n",
       "      <td>https://m.media-amazon.com/images/I/81q+k3dsJg...</td>\n",
       "      <td>https://www.amazon.in/Amazon-Brand-Symactive-P...</td>\n",
       "      <td>5.0</td>\n",
       "      <td>2.0</td>\n",
       "      <td>655.04</td>\n",
       "      <td>2399.0</td>\n",
       "      <td>1743.96</td>\n",
       "      <td>0.726953</td>\n",
       "    </tr>\n",
       "    <tr>\n",
       "      <th>551580</th>\n",
       "      <td>Adidas Regular Fit Men's Track Tops</td>\n",
       "      <td>Adidas</td>\n",
       "      <td>sports &amp; fitness</td>\n",
       "      <td>Yoga</td>\n",
       "      <td>https://m.media-amazon.com/images/I/71tHAR9pIY...</td>\n",
       "      <td>https://www.amazon.in/Adidas-Regular-Mens-Trac...</td>\n",
       "      <td>3.2</td>\n",
       "      <td>9.0</td>\n",
       "      <td>3449.00</td>\n",
       "      <td>4599.0</td>\n",
       "      <td>1150.00</td>\n",
       "      <td>0.250054</td>\n",
       "    </tr>\n",
       "  </tbody>\n",
       "</table>\n",
       "<p>18015 rows × 12 columns</p>\n",
       "</div>"
      ],
      "text/plain": [
       "                                                     name manufacturer  \\\n",
       "21238   Adidas Unisex Low Cut Cotton Blend Socks (Pack...       Adidas   \n",
       "21250   Amazon Brand - Symactive Rubber Coated Hex Dum...       Amazon   \n",
       "21275   Puma polyester 23 Cms Gym Bag(7572229_Pink_X_Red)         Puma   \n",
       "21318   Van Heusen Athleisure Men Regular Fit Track Pa...          Van   \n",
       "21362                           Adidas unisex-adult Socks       Adidas   \n",
       "...                                                   ...          ...   \n",
       "551547  Adidas Men's Cotton Mhs Fz Sta Track Tops (H16...       Adidas   \n",
       "551549                              Adidas Men's Standard       Adidas   \n",
       "551568                              Adidas Men's Standard       Adidas   \n",
       "551572                Amazon Brand - Symactive Men Shorts       Amazon   \n",
       "551580                Adidas Regular Fit Men's Track Tops       Adidas   \n",
       "\n",
       "           main_category            sub_category  \\\n",
       "21238   sports & fitness  All Exercise & Fitness   \n",
       "21250   sports & fitness  All Exercise & Fitness   \n",
       "21275   sports & fitness  All Exercise & Fitness   \n",
       "21318   sports & fitness  All Exercise & Fitness   \n",
       "21362   sports & fitness  All Exercise & Fitness   \n",
       "...                  ...                     ...   \n",
       "551547  sports & fitness                    Yoga   \n",
       "551549  sports & fitness                    Yoga   \n",
       "551568  sports & fitness                    Yoga   \n",
       "551572  sports & fitness                    Yoga   \n",
       "551580  sports & fitness                    Yoga   \n",
       "\n",
       "                                                    image  \\\n",
       "21238   https://m.media-amazon.com/images/I/81GffNsMvx...   \n",
       "21250   https://m.media-amazon.com/images/I/81nZnXUMtj...   \n",
       "21275   https://m.media-amazon.com/images/W/IMAGERENDE...   \n",
       "21318   https://m.media-amazon.com/images/I/711tuDPz5U...   \n",
       "21362   https://m.media-amazon.com/images/I/71yxNDWaya...   \n",
       "...                                                   ...   \n",
       "551547  https://m.media-amazon.com/images/I/81xR72S349...   \n",
       "551549  https://m.media-amazon.com/images/I/61nxNPQMxv...   \n",
       "551568  https://m.media-amazon.com/images/I/715IyINuD-...   \n",
       "551572  https://m.media-amazon.com/images/I/81q+k3dsJg...   \n",
       "551580  https://m.media-amazon.com/images/I/71tHAR9pIY...   \n",
       "\n",
       "                                                     link  ratings  \\\n",
       "21238   https://www.amazon.in/Adidas-Original-Cushion-...      4.0   \n",
       "21250   https://www.amazon.in/Amazon-Brand-Symactive-R...      4.5   \n",
       "21275   https://www.amazon.in/PUMA-Polyester-Bridal-Ro...      4.1   \n",
       "21318   https://www.amazon.in/Van-Heusen-Cotton-50043_...      4.0   \n",
       "21362   https://www.amazon.in/Adidas-Unisex-Light-Dz93...      4.5   \n",
       "...                                                   ...      ...   \n",
       "551547  https://www.amazon.in/Adidas-Cotton-Track-H166...      3.6   \n",
       "551549  https://www.amazon.in/Adidas-Polyester-Track-H...      3.0   \n",
       "551568  https://www.amazon.in/Adidas-Polyester-Tkjkt-T...      3.4   \n",
       "551572  https://www.amazon.in/Amazon-Brand-Symactive-P...      5.0   \n",
       "551580  https://www.amazon.in/Adidas-Regular-Mens-Trac...      3.2   \n",
       "\n",
       "        no_of_ratings  discount_price  actual_price  net_discount  \\\n",
       "21238           224.0          539.00         549.0         10.00   \n",
       "21250           511.0         1569.00        3100.0       1531.00   \n",
       "21275           249.0          789.00        1499.0        710.00   \n",
       "21318          6299.0          909.00        1399.0        490.00   \n",
       "21362           264.0          599.00         999.0        400.00   \n",
       "...               ...             ...           ...           ...   \n",
       "551547            5.0         1449.00        4599.0       3150.00   \n",
       "551549            2.0         4949.00        6599.0       1650.00   \n",
       "551568           16.0         1349.00        4299.0       2950.00   \n",
       "551572            2.0          655.04        2399.0       1743.96   \n",
       "551580            9.0         3449.00        4599.0       1150.00   \n",
       "\n",
       "        discount_percent  \n",
       "21238           0.018215  \n",
       "21250           0.493871  \n",
       "21275           0.473649  \n",
       "21318           0.350250  \n",
       "21362           0.400400  \n",
       "...                  ...  \n",
       "551547          0.684932  \n",
       "551549          0.250038  \n",
       "551568          0.686206  \n",
       "551572          0.726953  \n",
       "551580          0.250054  \n",
       "\n",
       "[18015 rows x 12 columns]"
      ]
     },
     "execution_count": 42,
     "metadata": {},
     "output_type": "execute_result"
    }
   ],
   "source": [
    "df_top10_5 = df_top10[df_top10['main_category'].isin(top5_categories)]\n",
    "df_top10_5\n"
   ]
  },
  {
   "cell_type": "markdown",
   "metadata": {},
   "source": [
    "Let's create another df with top10 subcategories and check average rating and price:"
   ]
  },
  {
   "cell_type": "code",
   "execution_count": 43,
   "metadata": {},
   "outputs": [
    {
     "data": {
      "text/plain": [
       "['Sports Shoes',\n",
       " 'Shirts',\n",
       " 'T-shirts & Polos',\n",
       " 'Casual Shoes',\n",
       " 'Jeans',\n",
       " \"Men's Fashion\",\n",
       " 'Lingerie & Nightwear',\n",
       " 'Sportswear',\n",
       " 'Western Wear',\n",
       " 'Clothing']"
      ]
     },
     "execution_count": 43,
     "metadata": {},
     "output_type": "execute_result"
    }
   ],
   "source": [
    "top10_subcategories = df_top10_5['sub_category'].value_counts().keys().to_list()[:10]\n",
    "top10_subcategories"
   ]
  },
  {
   "cell_type": "code",
   "execution_count": 44,
   "metadata": {},
   "outputs": [],
   "source": [
    "top10_subcategories_values = df_top10_5['sub_category'].value_counts().to_list()[:10]"
   ]
  },
  {
   "cell_type": "code",
   "execution_count": 45,
   "metadata": {},
   "outputs": [
    {
     "data": {
      "image/png": "[encoded data removed]",
      "text/plain": [
       "<Figure size 640x480 with 1 Axes>"
      ]
     },
     "metadata": {},
     "output_type": "display_data"
    }
   ],
   "source": [
    "sns.barplot(x=top10_subcategories, y=top10_subcategories_values, color = 'orange', zorder=2)\n",
    "plt.grid(axis='y', linestyle='--', alpha=0.5, zorder = 1, color='grey')\n",
    "plt.xlabel('Subcategories in Top10 manufacturers and Top5 categories')\n",
    "plt.ylabel('nº items')\n",
    "plt.title('Main subcategories in Amazon', fontweight='bold')\n",
    "plt.xticks(rotation = 90, ha= 'right')\n",
    "plt.show()"
   ]
  },
  {
   "cell_type": "markdown",
   "metadata": {},
   "source": [
    "The most popular subcategory is Sports Shoes, followed by Shirts and T-shirts & Polos"
   ]
  },
  {
   "cell_type": "code",
   "execution_count": 46,
   "metadata": {},
   "outputs": [
    {
     "data": {
      "text/html": [
       "<div>\n",
       "<style scoped>\n",
       "    .dataframe tbody tr th:only-of-type {\n",
       "        vertical-align: middle;\n",
       "    }\n",
       "\n",
       "    .dataframe tbody tr th {\n",
       "        vertical-align: top;\n",
       "    }\n",
       "\n",
       "    .dataframe thead th {\n",
       "        text-align: right;\n",
       "    }\n",
       "</style>\n",
       "<table border=\"1\" class=\"dataframe\">\n",
       "  <thead>\n",
       "    <tr style=\"text-align: right;\">\n",
       "      <th></th>\n",
       "      <th>name</th>\n",
       "      <th>manufacturer</th>\n",
       "      <th>main_category</th>\n",
       "      <th>sub_category</th>\n",
       "      <th>image</th>\n",
       "      <th>link</th>\n",
       "      <th>ratings</th>\n",
       "      <th>no_of_ratings</th>\n",
       "      <th>discount_price</th>\n",
       "      <th>actual_price</th>\n",
       "      <th>net_discount</th>\n",
       "      <th>discount_percent</th>\n",
       "    </tr>\n",
       "  </thead>\n",
       "  <tbody>\n",
       "    <tr>\n",
       "      <th>85206</th>\n",
       "      <td>Puma Mens Cliff Idp Low Boot</td>\n",
       "      <td>Puma</td>\n",
       "      <td>men's shoes</td>\n",
       "      <td>Casual Shoes</td>\n",
       "      <td>https://m.media-amazon.com/images/I/71P6Ez1pDe...</td>\n",
       "      <td>https://www.amazon.in/Puma-Cliff-Casual-Shoe-9...</td>\n",
       "      <td>4.0</td>\n",
       "      <td>281.0</td>\n",
       "      <td>1709.00</td>\n",
       "      <td>3499.0</td>\n",
       "      <td>1790.00</td>\n",
       "      <td>0.511575</td>\n",
       "    </tr>\n",
       "    <tr>\n",
       "      <th>85221</th>\n",
       "      <td>Red Tape Men's Chelsea Boots</td>\n",
       "      <td>Red</td>\n",
       "      <td>men's shoes</td>\n",
       "      <td>Casual Shoes</td>\n",
       "      <td>https://m.media-amazon.com/images/I/61vKUYLUfG...</td>\n",
       "      <td>https://www.amazon.in/Red-Tape-Leather-Chelsea...</td>\n",
       "      <td>3.9</td>\n",
       "      <td>592.0</td>\n",
       "      <td>1824.00</td>\n",
       "      <td>7299.0</td>\n",
       "      <td>5475.00</td>\n",
       "      <td>0.750103</td>\n",
       "    </tr>\n",
       "    <tr>\n",
       "      <th>85233</th>\n",
       "      <td>Red Tape Men Black Sneaker</td>\n",
       "      <td>Red</td>\n",
       "      <td>men's shoes</td>\n",
       "      <td>Casual Shoes</td>\n",
       "      <td>https://m.media-amazon.com/images/W/IMAGERENDE...</td>\n",
       "      <td>https://www.amazon.in/Red-Tape-Mens-White-Snea...</td>\n",
       "      <td>3.7</td>\n",
       "      <td>42.0</td>\n",
       "      <td>1399.00</td>\n",
       "      <td>5599.0</td>\n",
       "      <td>4200.00</td>\n",
       "      <td>0.750134</td>\n",
       "    </tr>\n",
       "    <tr>\n",
       "      <th>85236</th>\n",
       "      <td>Red Tape Men's Ankle Length Boots- Elevated Lo...</td>\n",
       "      <td>Red</td>\n",
       "      <td>men's shoes</td>\n",
       "      <td>Casual Shoes</td>\n",
       "      <td>https://m.media-amazon.com/images/W/IMAGERENDE...</td>\n",
       "      <td>https://www.amazon.in/Red-Tape-Ankle-Length-Bo...</td>\n",
       "      <td>4.0</td>\n",
       "      <td>738.0</td>\n",
       "      <td>1890.00</td>\n",
       "      <td>7599.0</td>\n",
       "      <td>5709.00</td>\n",
       "      <td>0.751283</td>\n",
       "    </tr>\n",
       "    <tr>\n",
       "      <th>85239</th>\n",
       "      <td>Puma Unisex-Adult Duke Walking Shoe</td>\n",
       "      <td>Puma</td>\n",
       "      <td>men's shoes</td>\n",
       "      <td>Casual Shoes</td>\n",
       "      <td>https://m.media-amazon.com/images/W/IMAGERENDE...</td>\n",
       "      <td>https://www.amazon.in/Puma-Unisex-Adult-Mist-D...</td>\n",
       "      <td>4.1</td>\n",
       "      <td>163.0</td>\n",
       "      <td>1679.00</td>\n",
       "      <td>3999.0</td>\n",
       "      <td>2320.00</td>\n",
       "      <td>0.580145</td>\n",
       "    </tr>\n",
       "    <tr>\n",
       "      <th>...</th>\n",
       "      <td>...</td>\n",
       "      <td>...</td>\n",
       "      <td>...</td>\n",
       "      <td>...</td>\n",
       "      <td>...</td>\n",
       "      <td>...</td>\n",
       "      <td>...</td>\n",
       "      <td>...</td>\n",
       "      <td>...</td>\n",
       "      <td>...</td>\n",
       "      <td>...</td>\n",
       "      <td>...</td>\n",
       "    </tr>\n",
       "    <tr>\n",
       "      <th>548262</th>\n",
       "      <td>Van Heusen Woman Women's Regular Fit T-Shirt</td>\n",
       "      <td>Van</td>\n",
       "      <td>women's clothing</td>\n",
       "      <td>Western Wear</td>\n",
       "      <td>https://m.media-amazon.com/images/I/61RTH0TUT-...</td>\n",
       "      <td>https://www.amazon.in/Van-Heusen-Woman-Regular...</td>\n",
       "      <td>4.3</td>\n",
       "      <td>11.0</td>\n",
       "      <td>229.00</td>\n",
       "      <td>599.0</td>\n",
       "      <td>370.00</td>\n",
       "      <td>0.617696</td>\n",
       "    </tr>\n",
       "    <tr>\n",
       "      <th>548264</th>\n",
       "      <td>Van Heusen Women's Solid Regular fit T-Shirt (...</td>\n",
       "      <td>Van</td>\n",
       "      <td>women's clothing</td>\n",
       "      <td>Western Wear</td>\n",
       "      <td>https://m.media-amazon.com/images/I/71AX6MbHz0...</td>\n",
       "      <td>https://www.amazon.in/Van-Heusen-Woman-Regular...</td>\n",
       "      <td>3.8</td>\n",
       "      <td>23.0</td>\n",
       "      <td>315.32</td>\n",
       "      <td>599.0</td>\n",
       "      <td>283.68</td>\n",
       "      <td>0.473589</td>\n",
       "    </tr>\n",
       "    <tr>\n",
       "      <th>548268</th>\n",
       "      <td>Amazon Brand - Symbol Women T-Shirt</td>\n",
       "      <td>Amazon</td>\n",
       "      <td>women's clothing</td>\n",
       "      <td>Western Wear</td>\n",
       "      <td>https://m.media-amazon.com/images/I/81t6MT7C9s...</td>\n",
       "      <td>https://www.amazon.in/Amazon-Brand-Striped-Reg...</td>\n",
       "      <td>4.1</td>\n",
       "      <td>89.0</td>\n",
       "      <td>441.00</td>\n",
       "      <td>1199.0</td>\n",
       "      <td>758.00</td>\n",
       "      <td>0.632193</td>\n",
       "    </tr>\n",
       "    <tr>\n",
       "      <th>548286</th>\n",
       "      <td>Van Heusen Women Lounge T-Shirt - Modal Cotton...</td>\n",
       "      <td>Van</td>\n",
       "      <td>women's clothing</td>\n",
       "      <td>Western Wear</td>\n",
       "      <td>https://m.media-amazon.com/images/I/71-q2mMPr2...</td>\n",
       "      <td>https://www.amazon.in/Van-Heusen-Womens-55403_...</td>\n",
       "      <td>3.9</td>\n",
       "      <td>24.0</td>\n",
       "      <td>437.00</td>\n",
       "      <td>689.0</td>\n",
       "      <td>252.00</td>\n",
       "      <td>0.365747</td>\n",
       "    </tr>\n",
       "    <tr>\n",
       "      <th>548338</th>\n",
       "      <td>Levi's Women T-Shirt</td>\n",
       "      <td>Levi's</td>\n",
       "      <td>women's clothing</td>\n",
       "      <td>Western Wear</td>\n",
       "      <td>https://m.media-amazon.com/images/I/5166V+qnSb...</td>\n",
       "      <td>https://www.amazon.in/Levis-Graphic-Regular-23...</td>\n",
       "      <td>3.0</td>\n",
       "      <td>1.0</td>\n",
       "      <td>549.00</td>\n",
       "      <td>1099.0</td>\n",
       "      <td>550.00</td>\n",
       "      <td>0.500455</td>\n",
       "    </tr>\n",
       "  </tbody>\n",
       "</table>\n",
       "<p>15985 rows × 12 columns</p>\n",
       "</div>"
      ],
      "text/plain": [
       "                                                     name manufacturer  \\\n",
       "85206                        Puma Mens Cliff Idp Low Boot         Puma   \n",
       "85221                        Red Tape Men's Chelsea Boots          Red   \n",
       "85233                          Red Tape Men Black Sneaker          Red   \n",
       "85236   Red Tape Men's Ankle Length Boots- Elevated Lo...          Red   \n",
       "85239                 Puma Unisex-Adult Duke Walking Shoe         Puma   \n",
       "...                                                   ...          ...   \n",
       "548262       Van Heusen Woman Women's Regular Fit T-Shirt          Van   \n",
       "548264  Van Heusen Women's Solid Regular fit T-Shirt (...          Van   \n",
       "548268                Amazon Brand - Symbol Women T-Shirt       Amazon   \n",
       "548286  Van Heusen Women Lounge T-Shirt - Modal Cotton...          Van   \n",
       "548338                               Levi's Women T-Shirt       Levi's   \n",
       "\n",
       "           main_category  sub_category  \\\n",
       "85206        men's shoes  Casual Shoes   \n",
       "85221        men's shoes  Casual Shoes   \n",
       "85233        men's shoes  Casual Shoes   \n",
       "85236        men's shoes  Casual Shoes   \n",
       "85239        men's shoes  Casual Shoes   \n",
       "...                  ...           ...   \n",
       "548262  women's clothing  Western Wear   \n",
       "548264  women's clothing  Western Wear   \n",
       "548268  women's clothing  Western Wear   \n",
       "548286  women's clothing  Western Wear   \n",
       "548338  women's clothing  Western Wear   \n",
       "\n",
       "                                                    image  \\\n",
       "85206   https://m.media-amazon.com/images/I/71P6Ez1pDe...   \n",
       "85221   https://m.media-amazon.com/images/I/61vKUYLUfG...   \n",
       "85233   https://m.media-amazon.com/images/W/IMAGERENDE...   \n",
       "85236   https://m.media-amazon.com/images/W/IMAGERENDE...   \n",
       "85239   https://m.media-amazon.com/images/W/IMAGERENDE...   \n",
       "...                                                   ...   \n",
       "548262  https://m.media-amazon.com/images/I/61RTH0TUT-...   \n",
       "548264  https://m.media-amazon.com/images/I/71AX6MbHz0...   \n",
       "548268  https://m.media-amazon.com/images/I/81t6MT7C9s...   \n",
       "548286  https://m.media-amazon.com/images/I/71-q2mMPr2...   \n",
       "548338  https://m.media-amazon.com/images/I/5166V+qnSb...   \n",
       "\n",
       "                                                     link  ratings  \\\n",
       "85206   https://www.amazon.in/Puma-Cliff-Casual-Shoe-9...      4.0   \n",
       "85221   https://www.amazon.in/Red-Tape-Leather-Chelsea...      3.9   \n",
       "85233   https://www.amazon.in/Red-Tape-Mens-White-Snea...      3.7   \n",
       "85236   https://www.amazon.in/Red-Tape-Ankle-Length-Bo...      4.0   \n",
       "85239   https://www.amazon.in/Puma-Unisex-Adult-Mist-D...      4.1   \n",
       "...                                                   ...      ...   \n",
       "548262  https://www.amazon.in/Van-Heusen-Woman-Regular...      4.3   \n",
       "548264  https://www.amazon.in/Van-Heusen-Woman-Regular...      3.8   \n",
       "548268  https://www.amazon.in/Amazon-Brand-Striped-Reg...      4.1   \n",
       "548286  https://www.amazon.in/Van-Heusen-Womens-55403_...      3.9   \n",
       "548338  https://www.amazon.in/Levis-Graphic-Regular-23...      3.0   \n",
       "\n",
       "        no_of_ratings  discount_price  actual_price  net_discount  \\\n",
       "85206           281.0         1709.00        3499.0       1790.00   \n",
       "85221           592.0         1824.00        7299.0       5475.00   \n",
       "85233            42.0         1399.00        5599.0       4200.00   \n",
       "85236           738.0         1890.00        7599.0       5709.00   \n",
       "85239           163.0         1679.00        3999.0       2320.00   \n",
       "...               ...             ...           ...           ...   \n",
       "548262           11.0          229.00         599.0        370.00   \n",
       "548264           23.0          315.32         599.0        283.68   \n",
       "548268           89.0          441.00        1199.0        758.00   \n",
       "548286           24.0          437.00         689.0        252.00   \n",
       "548338            1.0          549.00        1099.0        550.00   \n",
       "\n",
       "        discount_percent  \n",
       "85206           0.511575  \n",
       "85221           0.750103  \n",
       "85233           0.750134  \n",
       "85236           0.751283  \n",
       "85239           0.580145  \n",
       "...                  ...  \n",
       "548262          0.617696  \n",
       "548264          0.473589  \n",
       "548268          0.632193  \n",
       "548286          0.365747  \n",
       "548338          0.500455  \n",
       "\n",
       "[15985 rows x 12 columns]"
      ]
     },
     "execution_count": 46,
     "metadata": {},
     "output_type": "execute_result"
    }
   ],
   "source": [
    "df_top10_5_10 = df_top10_5[df_top10_5['sub_category'].isin(top10_subcategories)]\n",
    "df_top10_5_10"
   ]
  },
  {
   "cell_type": "markdown",
   "metadata": {},
   "source": [
    "### Summary statistics in TOP10 manufacturers | TOP5 categories | TOP10 subcategories"
   ]
  },
  {
   "cell_type": "markdown",
   "metadata": {},
   "source": [
    "**Centrality and Dispersion Measures**"
   ]
  },
  {
   "cell_type": "markdown",
   "metadata": {},
   "source": [
    "Mean"
   ]
  },
  {
   "cell_type": "code",
   "execution_count": 47,
   "metadata": {},
   "outputs": [
    {
     "name": "stdout",
     "output_type": "stream",
     "text": [
      "The average rating in Top10 subcategories is 3.82\n",
      "The average price in Top10 subcategories is 2943.48\n",
      "The average discount in Top10 subcategories is 50.0%\n"
     ]
    }
   ],
   "source": [
    "print(f\"The average rating in Top10 subcategories is {df_top10_5_10['ratings'].mean().round(2)}\")\n",
    "print(f\"The average price in Top10 subcategories is {df_top10_5_10['actual_price'].mean().round(2)}\")\n",
    "print(f\"The average discount in Top10 subcategories is {df_top10_5_10['discount_percent'].mean().round(2)*100}%\")"
   ]
  },
  {
   "cell_type": "markdown",
   "metadata": {},
   "source": [
    "Median"
   ]
  },
  {
   "cell_type": "code",
   "execution_count": 56,
   "metadata": {},
   "outputs": [
    {
     "name": "stdout",
     "output_type": "stream",
     "text": [
      "The median rating in Top10 subcategories is 3.9\n",
      "The median price in Top10 subcategories is 2299.0\n",
      "The median discount in Top10 subcategories is 51.157473563875385%\n"
     ]
    }
   ],
   "source": [
    "print(f\"The median rating in Top10 subcategories is {df_top10_5_10['ratings'].median()}\")\n",
    "print(f\"The median price in Top10 subcategories is {df_top10_5_10['actual_price'].median()}\")\n",
    "print(f\"The median discount in Top10 subcategories is {df_top10_5_10['discount_percent'].median()*100}%\")"
   ]
  },
  {
   "cell_type": "markdown",
   "metadata": {},
   "source": [
    "Mode"
   ]
  },
  {
   "cell_type": "code",
   "execution_count": 54,
   "metadata": {},
   "outputs": [
    {
     "name": "stdout",
     "output_type": "stream",
     "text": [
      "The most frequent (mode) rating in Top10 subcategories is 0    4.0\n",
      "Name: ratings, dtype: float64\n",
      "The most frequent (mode) price in Top10 subcategories is 0    1999.0\n",
      "Name: actual_price, dtype: float64\n",
      "The most frequent (mode) discount in Top10 subcategories is 0    57.0\n",
      "Name: discount_percent, dtype: float64%\n"
     ]
    }
   ],
   "source": [
    "print(f\"The most frequent (mode) rating in Top10 subcategories is {df_top10_5_10['ratings'].mode()}\")\n",
    "print(f\"The most frequent (mode) price in Top10 subcategories is {df_top10_5_10['actual_price'].mode()}\")\n",
    "print(f\"The most frequent (mode) discount in Top10 subcategories is {df_top10_5_10['discount_percent'].mode().round(2)*100}%\")"
   ]
  },
  {
   "cell_type": "markdown",
   "metadata": {},
   "source": [
    "Measures of Dispersion in price"
   ]
  },
  {
   "cell_type": "code",
   "execution_count": 60,
   "metadata": {},
   "outputs": [
    {
     "name": "stdout",
     "output_type": "stream",
     "text": [
      "The variance in price is 4546109.064025052\n",
      "The standard deviation in price is 2132.1606562417037\n",
      "The max price is 19999.0\n",
      "The min price is 215.0\n",
      "The range in price is 19784.0\n"
     ]
    },
    {
     "data": {
      "text/plain": [
       "0.25    1499.0\n",
       "0.50    2299.0\n",
       "0.75    3999.0\n",
       "Name: actual_price, dtype: float64"
      ]
     },
     "execution_count": 60,
     "metadata": {},
     "output_type": "execute_result"
    }
   ],
   "source": [
    "print(f\"The variance in price is {df_top10_5_10['actual_price'].var()}\")\n",
    "print(f\"The standard deviation in price is {df_top10_5_10['actual_price'].std()}\")\n",
    "print(f\"The max price is {df_top10_5_10['actual_price'].max()}\")\n",
    "print(f\"The min price is {df_top10_5_10['actual_price'].min()}\")\n",
    "print(f\"The range in price is {df_top10_5_10['actual_price'].max() - df_top10_5_10['actual_price'].min()}\")\n",
    "\n",
    "df_top10_5_10['actual_price'].quantile([0.25, 0.5, 0.75])"
   ]
  },
  {
   "cell_type": "markdown",
   "metadata": {},
   "source": [
    "**Comments regarding price:**\n",
    "- Notably, the median price is lower than the mean price, suggesting a skew in the distribution of sale prices towards higher values.\n",
    "- The standard deviation is `2132`, what indicates that sale prices can vary significantly from the average.\n",
    "- The minimum and maximum sale prices are `215` and `19999`, respectively, highlighting a wide range of property values in the dataset.\n",
    "- The interquartile range (IQR), given by the values at 25% (Q1) and 75% (Q3), is between `1499` and `3999`. This means that 50% of the houses in the dataset were sold within this price range."
   ]
  },
  {
   "cell_type": "markdown",
   "metadata": {},
   "source": [
    "**Shape of the Distribution in price**\n"
   ]
  },
  {
   "cell_type": "code",
   "execution_count": 62,
   "metadata": {},
   "outputs": [
    {
     "data": {
      "text/plain": [
       "(1.9118639286886372, 5.781232317228021)"
      ]
     },
     "execution_count": 62,
     "metadata": {},
     "output_type": "execute_result"
    }
   ],
   "source": [
    "skewness_price = df_top10_5_10['actual_price'].skew()\n",
    "kurtosis_price = df_top10_5_10['actual_price'].kurtosis()\n",
    "\n",
    "skewness_price, kurtosis_price"
   ]
  },
  {
   "cell_type": "markdown",
   "metadata": {},
   "source": [
    "**Insights**:\n",
    "\n",
    "1. **Skewness**: The positive value of skewness (1.91) for the 'actual_price' indicates that the distribution is right-skewed. This means that the tail on the right side (higher prices) is longer than the left side (lower prices). In practical terms, this suggests that there are a significant number of products that are sold at higher prices, which are acting as outliers and pulling the mean upwards.\n",
    "  \n",
    "2. **Kurtosis**: The kurtosis value of 5.78 is greater than 3, which indicates that the price distribution has heavier tails and a sharper peak compared to a normal distribution. This means that there are more outliers (extreme values) in prices than one would expect in a normally distributed set.\n",
    "\n",
    "The skewness and kurtosis values suggest that there are some products that are sold at significantly higher prices than the majority, and these are affecting the overall distribution of prices in the dataset."
   ]
  },
  {
   "cell_type": "markdown",
   "metadata": {},
   "source": [
    "#### Price distribution across products from TOP10 manufacturers | TOP5 categories | TOP10 subcategories"
   ]
  },
  {
   "cell_type": "code",
   "execution_count": null,
   "metadata": {},
   "outputs": [],
   "source": []
  }
 ],
 "metadata": {
  "kernelspec": {
   "display_name": "base",
   "language": "python",
   "name": "python3"
  },
  "language_info": {
   "codemirror_mode": {
    "name": "ipython",
    "version": 3
   },
   "file_extension": ".py",
   "mimetype": "text/x-python",
   "name": "python",
   "nbconvert_exporter": "python",
   "pygments_lexer": "ipython3",
   "version": "3.11.5"
  }
 },
 "nbformat": 4,
 "nbformat_minor": 2
}
