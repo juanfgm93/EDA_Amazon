{
 "cells": [
  {
   "cell_type": "code",
   "execution_count": 93,
   "metadata": {},
   "outputs": [],
   "source": [
    "import pandas as pd\n",
    "from pathlib import Path\n",
    "import matplotlib.pyplot as plt\n",
    "import seaborn as sns"
   ]
  },
  {
   "cell_type": "code",
   "execution_count": 39,
   "metadata": {},
   "outputs": [],
   "source": [
    "# https://www.kaggle.com/datasets/lokeshparab/amazon-products-dataset/data"
   ]
  },
  {
   "cell_type": "markdown",
   "metadata": {},
   "source": [
    "## Load Data"
   ]
  },
  {
   "cell_type": "code",
   "execution_count": 40,
   "metadata": {},
   "outputs": [],
   "source": [
    "ALL_PRODUCTS_FILEPATH = Path.cwd() / '..' / 'amazon_data_files' / 'Amazon-Products.csv'\n",
    "AIR_CONDITIONERS_FILEPATH = Path.cwd() / '..' / 'amazon_data_files' / 'Air Conditioners.csv'"
   ]
  },
  {
   "cell_type": "code",
   "execution_count": 41,
   "metadata": {},
   "outputs": [
    {
     "data": {
      "text/html": [
       "<div>\n",
       "<style scoped>\n",
       "    .dataframe tbody tr th:only-of-type {\n",
       "        vertical-align: middle;\n",
       "    }\n",
       "\n",
       "    .dataframe tbody tr th {\n",
       "        vertical-align: top;\n",
       "    }\n",
       "\n",
       "    .dataframe thead th {\n",
       "        text-align: right;\n",
       "    }\n",
       "</style>\n",
       "<table border=\"1\" class=\"dataframe\">\n",
       "  <thead>\n",
       "    <tr style=\"text-align: right;\">\n",
       "      <th></th>\n",
       "      <th>Unnamed: 0</th>\n",
       "      <th>Name</th>\n",
       "      <th>main Category</th>\n",
       "      <th>Sub category</th>\n",
       "      <th>image</th>\n",
       "      <th>link</th>\n",
       "      <th>ratings</th>\n",
       "      <th>no of Ratings</th>\n",
       "      <th>discount price</th>\n",
       "      <th>actual price</th>\n",
       "    </tr>\n",
       "  </thead>\n",
       "  <tbody>\n",
       "    <tr>\n",
       "      <th>0</th>\n",
       "      <td>0</td>\n",
       "      <td>Lloyd 1.5 Ton 3 Star Inverter Split Ac (5 In 1...</td>\n",
       "      <td>appliances</td>\n",
       "      <td>Air Conditioners</td>\n",
       "      <td>https://m.media-amazon.com/images/I/31UISB90sY...</td>\n",
       "      <td>https://www.amazon.in/Lloyd-Inverter-Convertib...</td>\n",
       "      <td>4.2</td>\n",
       "      <td>2,255</td>\n",
       "      <td>₹32,999</td>\n",
       "      <td>₹58,990</td>\n",
       "    </tr>\n",
       "    <tr>\n",
       "      <th>1</th>\n",
       "      <td>1</td>\n",
       "      <td>LG 1.5 Ton 5 Star AI DUAL Inverter Split AC (C...</td>\n",
       "      <td>appliances</td>\n",
       "      <td>Air Conditioners</td>\n",
       "      <td>https://m.media-amazon.com/images/I/51JFb7FctD...</td>\n",
       "      <td>https://www.amazon.in/LG-Convertible-Anti-Viru...</td>\n",
       "      <td>4.2</td>\n",
       "      <td>2,948</td>\n",
       "      <td>₹46,490</td>\n",
       "      <td>₹75,990</td>\n",
       "    </tr>\n",
       "    <tr>\n",
       "      <th>2</th>\n",
       "      <td>2</td>\n",
       "      <td>LG 1 Ton 4 Star Ai Dual Inverter Split Ac (Cop...</td>\n",
       "      <td>appliances</td>\n",
       "      <td>Air Conditioners</td>\n",
       "      <td>https://m.media-amazon.com/images/I/51JFb7FctD...</td>\n",
       "      <td>https://www.amazon.in/LG-Inverter-Convertible-...</td>\n",
       "      <td>4.2</td>\n",
       "      <td>1,206</td>\n",
       "      <td>₹34,490</td>\n",
       "      <td>₹61,990</td>\n",
       "    </tr>\n",
       "    <tr>\n",
       "      <th>3</th>\n",
       "      <td>3</td>\n",
       "      <td>LG 1.5 Ton 3 Star AI DUAL Inverter Split AC (C...</td>\n",
       "      <td>appliances</td>\n",
       "      <td>Air Conditioners</td>\n",
       "      <td>https://m.media-amazon.com/images/I/51JFb7FctD...</td>\n",
       "      <td>https://www.amazon.in/LG-Convertible-Anti-Viru...</td>\n",
       "      <td>4.0</td>\n",
       "      <td>69</td>\n",
       "      <td>₹37,990</td>\n",
       "      <td>₹68,990</td>\n",
       "    </tr>\n",
       "    <tr>\n",
       "      <th>4</th>\n",
       "      <td>4</td>\n",
       "      <td>Carrier 1.5 Ton 3 Star Inverter Split AC (Copp...</td>\n",
       "      <td>appliances</td>\n",
       "      <td>Air Conditioners</td>\n",
       "      <td>https://m.media-amazon.com/images/I/41lrtqXPiW...</td>\n",
       "      <td>https://www.amazon.in/Carrier-Inverter-Split-C...</td>\n",
       "      <td>4.1</td>\n",
       "      <td>630</td>\n",
       "      <td>₹34,490</td>\n",
       "      <td>₹67,790</td>\n",
       "    </tr>\n",
       "    <tr>\n",
       "      <th>...</th>\n",
       "      <td>...</td>\n",
       "      <td>...</td>\n",
       "      <td>...</td>\n",
       "      <td>...</td>\n",
       "      <td>...</td>\n",
       "      <td>...</td>\n",
       "      <td>...</td>\n",
       "      <td>...</td>\n",
       "      <td>...</td>\n",
       "      <td>...</td>\n",
       "    </tr>\n",
       "    <tr>\n",
       "      <th>551580</th>\n",
       "      <td>1099</td>\n",
       "      <td>Adidas Regular Fit Men's Track Tops</td>\n",
       "      <td>sports &amp; fitness</td>\n",
       "      <td>Yoga</td>\n",
       "      <td>https://m.media-amazon.com/images/I/71tHAR9pIY...</td>\n",
       "      <td>https://www.amazon.in/Adidas-Regular-Mens-Trac...</td>\n",
       "      <td>3.2</td>\n",
       "      <td>9</td>\n",
       "      <td>₹3,449</td>\n",
       "      <td>₹4,599</td>\n",
       "    </tr>\n",
       "    <tr>\n",
       "      <th>551581</th>\n",
       "      <td>1100</td>\n",
       "      <td>Redwolf Noice Toit Smort - Hoodie (Black)</td>\n",
       "      <td>sports &amp; fitness</td>\n",
       "      <td>Yoga</td>\n",
       "      <td>https://m.media-amazon.com/images/I/41pKrMZ5lQ...</td>\n",
       "      <td>https://www.amazon.in/Redwolf-Noice-Smort-Cott...</td>\n",
       "      <td>2.0</td>\n",
       "      <td>2</td>\n",
       "      <td>₹1,199</td>\n",
       "      <td>₹1,999</td>\n",
       "    </tr>\n",
       "    <tr>\n",
       "      <th>551582</th>\n",
       "      <td>1101</td>\n",
       "      <td>Redwolf Schrute Farms B&amp;B - Hoodie (Navy Blue)</td>\n",
       "      <td>sports &amp; fitness</td>\n",
       "      <td>Yoga</td>\n",
       "      <td>https://m.media-amazon.com/images/I/41n9u+zNSc...</td>\n",
       "      <td>https://www.amazon.in/Redwolf-Schrute-Farms-Ho...</td>\n",
       "      <td>4.0</td>\n",
       "      <td>1</td>\n",
       "      <td>₹1,199</td>\n",
       "      <td>₹1,999</td>\n",
       "    </tr>\n",
       "    <tr>\n",
       "      <th>551583</th>\n",
       "      <td>1102</td>\n",
       "      <td>Puma Men Shorts</td>\n",
       "      <td>sports &amp; fitness</td>\n",
       "      <td>Yoga</td>\n",
       "      <td>https://m.media-amazon.com/images/I/51LoWv5JDt...</td>\n",
       "      <td>https://www.amazon.in/Puma-Woven-Short-5208526...</td>\n",
       "      <td>4.4</td>\n",
       "      <td>37</td>\n",
       "      <td>NaN</td>\n",
       "      <td>NaN</td>\n",
       "    </tr>\n",
       "    <tr>\n",
       "      <th>551584</th>\n",
       "      <td>1103</td>\n",
       "      <td>Mothercare Printed Cotton Elastane Girls Infan...</td>\n",
       "      <td>sports &amp; fitness</td>\n",
       "      <td>Yoga</td>\n",
       "      <td>https://m.media-amazon.com/images/I/814X-sI3DB...</td>\n",
       "      <td>https://www.amazon.in/Mothercare-Carrot-Regula...</td>\n",
       "      <td>4.6</td>\n",
       "      <td>5</td>\n",
       "      <td>₹1,039</td>\n",
       "      <td>₹1,299</td>\n",
       "    </tr>\n",
       "  </tbody>\n",
       "</table>\n",
       "<p>551585 rows × 10 columns</p>\n",
       "</div>"
      ],
      "text/plain": [
       "        Unnamed: 0                                               Name  \\\n",
       "0                0  Lloyd 1.5 Ton 3 Star Inverter Split Ac (5 In 1...   \n",
       "1                1  LG 1.5 Ton 5 Star AI DUAL Inverter Split AC (C...   \n",
       "2                2  LG 1 Ton 4 Star Ai Dual Inverter Split Ac (Cop...   \n",
       "3                3  LG 1.5 Ton 3 Star AI DUAL Inverter Split AC (C...   \n",
       "4                4  Carrier 1.5 Ton 3 Star Inverter Split AC (Copp...   \n",
       "...            ...                                                ...   \n",
       "551580        1099                Adidas Regular Fit Men's Track Tops   \n",
       "551581        1100          Redwolf Noice Toit Smort - Hoodie (Black)   \n",
       "551582        1101     Redwolf Schrute Farms B&B - Hoodie (Navy Blue)   \n",
       "551583        1102                                    Puma Men Shorts   \n",
       "551584        1103  Mothercare Printed Cotton Elastane Girls Infan...   \n",
       "\n",
       "           main Category      Sub category  \\\n",
       "0             appliances  Air Conditioners   \n",
       "1             appliances  Air Conditioners   \n",
       "2             appliances  Air Conditioners   \n",
       "3             appliances  Air Conditioners   \n",
       "4             appliances  Air Conditioners   \n",
       "...                  ...               ...   \n",
       "551580  sports & fitness              Yoga   \n",
       "551581  sports & fitness              Yoga   \n",
       "551582  sports & fitness              Yoga   \n",
       "551583  sports & fitness              Yoga   \n",
       "551584  sports & fitness              Yoga   \n",
       "\n",
       "                                                    image  \\\n",
       "0       https://m.media-amazon.com/images/I/31UISB90sY...   \n",
       "1       https://m.media-amazon.com/images/I/51JFb7FctD...   \n",
       "2       https://m.media-amazon.com/images/I/51JFb7FctD...   \n",
       "3       https://m.media-amazon.com/images/I/51JFb7FctD...   \n",
       "4       https://m.media-amazon.com/images/I/41lrtqXPiW...   \n",
       "...                                                   ...   \n",
       "551580  https://m.media-amazon.com/images/I/71tHAR9pIY...   \n",
       "551581  https://m.media-amazon.com/images/I/41pKrMZ5lQ...   \n",
       "551582  https://m.media-amazon.com/images/I/41n9u+zNSc...   \n",
       "551583  https://m.media-amazon.com/images/I/51LoWv5JDt...   \n",
       "551584  https://m.media-amazon.com/images/I/814X-sI3DB...   \n",
       "\n",
       "                                                     link ratings  \\\n",
       "0       https://www.amazon.in/Lloyd-Inverter-Convertib...     4.2   \n",
       "1       https://www.amazon.in/LG-Convertible-Anti-Viru...     4.2   \n",
       "2       https://www.amazon.in/LG-Inverter-Convertible-...     4.2   \n",
       "3       https://www.amazon.in/LG-Convertible-Anti-Viru...     4.0   \n",
       "4       https://www.amazon.in/Carrier-Inverter-Split-C...     4.1   \n",
       "...                                                   ...     ...   \n",
       "551580  https://www.amazon.in/Adidas-Regular-Mens-Trac...     3.2   \n",
       "551581  https://www.amazon.in/Redwolf-Noice-Smort-Cott...     2.0   \n",
       "551582  https://www.amazon.in/Redwolf-Schrute-Farms-Ho...     4.0   \n",
       "551583  https://www.amazon.in/Puma-Woven-Short-5208526...     4.4   \n",
       "551584  https://www.amazon.in/Mothercare-Carrot-Regula...     4.6   \n",
       "\n",
       "       no of Ratings discount price  actual price  \n",
       "0              2,255        ₹32,999       ₹58,990  \n",
       "1              2,948        ₹46,490       ₹75,990  \n",
       "2              1,206        ₹34,490       ₹61,990  \n",
       "3                 69        ₹37,990       ₹68,990  \n",
       "4                630        ₹34,490       ₹67,790  \n",
       "...              ...            ...           ...  \n",
       "551580             9         ₹3,449        ₹4,599  \n",
       "551581             2         ₹1,199        ₹1,999  \n",
       "551582             1         ₹1,199        ₹1,999  \n",
       "551583            37            NaN           NaN  \n",
       "551584             5         ₹1,039        ₹1,299  \n",
       "\n",
       "[551585 rows x 10 columns]"
      ]
     },
     "execution_count": 41,
     "metadata": {},
     "output_type": "execute_result"
    }
   ],
   "source": [
    "all_products = pd.read_csv(ALL_PRODUCTS_FILEPATH)\n",
    "all_products"
   ]
  },
  {
   "cell_type": "markdown",
   "metadata": {},
   "source": [
    "### Dealing with column names"
   ]
  },
  {
   "cell_type": "code",
   "execution_count": 42,
   "metadata": {},
   "outputs": [],
   "source": [
    "# Drop columns not providing important information\n",
    "all_products = all_products.drop('Unnamed: 0', axis=1)"
   ]
  },
  {
   "cell_type": "code",
   "execution_count": 43,
   "metadata": {},
   "outputs": [],
   "source": [
    "# Keep all column names in same format\n",
    "all_products.columns = all_products.columns.str.lower().str.strip().str.replace(' ','_')"
   ]
  },
  {
   "cell_type": "code",
   "execution_count": 44,
   "metadata": {},
   "outputs": [
    {
     "data": {
      "text/plain": [
       "Index(['name', 'main_category', 'sub_category', 'image', 'link', 'ratings',\n",
       "       'no_of_ratings', 'discount_price', 'actual_price'],\n",
       "      dtype='object')"
      ]
     },
     "execution_count": 44,
     "metadata": {},
     "output_type": "execute_result"
    }
   ],
   "source": [
    "all_products.columns"
   ]
  },
  {
   "cell_type": "code",
   "execution_count": 45,
   "metadata": {},
   "outputs": [
    {
     "data": {
      "text/plain": [
       "(551585, 9)"
      ]
     },
     "execution_count": 45,
     "metadata": {},
     "output_type": "execute_result"
    }
   ],
   "source": [
    "# Number of columns and rows\n",
    "all_products.shape"
   ]
  },
  {
   "cell_type": "markdown",
   "metadata": {},
   "source": [
    "## Data Cleaning"
   ]
  },
  {
   "cell_type": "markdown",
   "metadata": {},
   "source": [
    "\n",
    "### Checking for Missing Data"
   ]
  },
  {
   "cell_type": "code",
   "execution_count": 46,
   "metadata": {},
   "outputs": [
    {
     "data": {
      "text/plain": [
       "name                   0\n",
       "main_category          0\n",
       "sub_category           0\n",
       "image                  0\n",
       "link                   0\n",
       "ratings           175794\n",
       "no_of_ratings     175794\n",
       "discount_price     61163\n",
       "actual_price       17813\n",
       "dtype: int64"
      ]
     },
     "execution_count": 46,
     "metadata": {},
     "output_type": "execute_result"
    }
   ],
   "source": [
    "all_products.isnull().sum()"
   ]
  },
  {
   "cell_type": "code",
   "execution_count": 47,
   "metadata": {},
   "outputs": [
    {
     "data": {
      "text/plain": [
       "name              0.000000\n",
       "main_category     0.000000\n",
       "sub_category      0.000000\n",
       "image             0.000000\n",
       "link              0.000000\n",
       "ratings           0.318707\n",
       "no_of_ratings     0.318707\n",
       "discount_price    0.110886\n",
       "actual_price      0.032294\n",
       "dtype: float64"
      ]
     },
     "execution_count": 47,
     "metadata": {},
     "output_type": "execute_result"
    }
   ],
   "source": [
    "all_products.isnull().mean()"
   ]
  },
  {
   "cell_type": "code",
   "execution_count": 48,
   "metadata": {},
   "outputs": [
    {
     "data": {
      "text/plain": [
       "Index([], dtype='object')"
      ]
     },
     "execution_count": 48,
     "metadata": {},
     "output_type": "execute_result"
    }
   ],
   "source": [
    "# Identifying columns in the dataframe where over 80% of the values are missing\n",
    "all_products.columns[all_products.isnull().mean() > 0.8]\n",
    "\n",
    "# There is no columns with more than 80% of data with missing values so there's no need to filter out any column"
   ]
  },
  {
   "cell_type": "markdown",
   "metadata": {},
   "source": [
    "\n",
    "### Checking for Data Types"
   ]
  },
  {
   "cell_type": "code",
   "execution_count": 49,
   "metadata": {},
   "outputs": [
    {
     "data": {
      "text/html": [
       "<div>\n",
       "<style scoped>\n",
       "    .dataframe tbody tr th:only-of-type {\n",
       "        vertical-align: middle;\n",
       "    }\n",
       "\n",
       "    .dataframe tbody tr th {\n",
       "        vertical-align: top;\n",
       "    }\n",
       "\n",
       "    .dataframe thead th {\n",
       "        text-align: right;\n",
       "    }\n",
       "</style>\n",
       "<table border=\"1\" class=\"dataframe\">\n",
       "  <thead>\n",
       "    <tr style=\"text-align: right;\">\n",
       "      <th></th>\n",
       "      <th>name</th>\n",
       "      <th>main_category</th>\n",
       "      <th>sub_category</th>\n",
       "      <th>image</th>\n",
       "      <th>link</th>\n",
       "      <th>ratings</th>\n",
       "      <th>no_of_ratings</th>\n",
       "      <th>discount_price</th>\n",
       "      <th>actual_price</th>\n",
       "    </tr>\n",
       "  </thead>\n",
       "  <tbody>\n",
       "    <tr>\n",
       "      <th>0</th>\n",
       "      <td>Lloyd 1.5 Ton 3 Star Inverter Split Ac (5 In 1...</td>\n",
       "      <td>appliances</td>\n",
       "      <td>Air Conditioners</td>\n",
       "      <td>https://m.media-amazon.com/images/I/31UISB90sY...</td>\n",
       "      <td>https://www.amazon.in/Lloyd-Inverter-Convertib...</td>\n",
       "      <td>4.2</td>\n",
       "      <td>2,255</td>\n",
       "      <td>₹32,999</td>\n",
       "      <td>₹58,990</td>\n",
       "    </tr>\n",
       "    <tr>\n",
       "      <th>1</th>\n",
       "      <td>LG 1.5 Ton 5 Star AI DUAL Inverter Split AC (C...</td>\n",
       "      <td>appliances</td>\n",
       "      <td>Air Conditioners</td>\n",
       "      <td>https://m.media-amazon.com/images/I/51JFb7FctD...</td>\n",
       "      <td>https://www.amazon.in/LG-Convertible-Anti-Viru...</td>\n",
       "      <td>4.2</td>\n",
       "      <td>2,948</td>\n",
       "      <td>₹46,490</td>\n",
       "      <td>₹75,990</td>\n",
       "    </tr>\n",
       "  </tbody>\n",
       "</table>\n",
       "</div>"
      ],
      "text/plain": [
       "                                                name main_category  \\\n",
       "0  Lloyd 1.5 Ton 3 Star Inverter Split Ac (5 In 1...    appliances   \n",
       "1  LG 1.5 Ton 5 Star AI DUAL Inverter Split AC (C...    appliances   \n",
       "\n",
       "       sub_category                                              image  \\\n",
       "0  Air Conditioners  https://m.media-amazon.com/images/I/31UISB90sY...   \n",
       "1  Air Conditioners  https://m.media-amazon.com/images/I/51JFb7FctD...   \n",
       "\n",
       "                                                link ratings no_of_ratings  \\\n",
       "0  https://www.amazon.in/Lloyd-Inverter-Convertib...     4.2         2,255   \n",
       "1  https://www.amazon.in/LG-Convertible-Anti-Viru...     4.2         2,948   \n",
       "\n",
       "  discount_price actual_price  \n",
       "0        ₹32,999      ₹58,990  \n",
       "1        ₹46,490      ₹75,990  "
      ]
     },
     "execution_count": 49,
     "metadata": {},
     "output_type": "execute_result"
    }
   ],
   "source": [
    "all_products.head(2)"
   ]
  },
  {
   "cell_type": "code",
   "execution_count": 50,
   "metadata": {},
   "outputs": [
    {
     "data": {
      "text/plain": [
       "name              object\n",
       "main_category     object\n",
       "sub_category      object\n",
       "image             object\n",
       "link              object\n",
       "ratings           object\n",
       "no_of_ratings     object\n",
       "discount_price    object\n",
       "actual_price      object\n",
       "dtype: object"
      ]
     },
     "execution_count": 50,
     "metadata": {},
     "output_type": "execute_result"
    }
   ],
   "source": [
    "# Displaying the data types of each column in the dataframe\n",
    "all_products.dtypes"
   ]
  },
  {
   "cell_type": "markdown",
   "metadata": {},
   "source": [
    "The last 4 column should be numerical, however, discount_price and actual_price containg non-numerical characters that need to be removed. After that they can be converted to float values."
   ]
  },
  {
   "cell_type": "code",
   "execution_count": 51,
   "metadata": {},
   "outputs": [],
   "source": [
    "# Remove '₹' symbol:\n",
    "all_products['discount_price'] = all_products['discount_price'].str.split('₹').str[1]\n",
    "all_products['actual_price'] = all_products['actual_price'].str.split('₹').str[1]\n"
   ]
  },
  {
   "cell_type": "code",
   "execution_count": 52,
   "metadata": {},
   "outputs": [],
   "source": [
    "# Remove commas and convert to float values\n",
    "all_products['discount_price'] = all_products['discount_price'].str.replace(',', '').astype(float)\n",
    "all_products['actual_price'] = all_products['actual_price'].str.replace(',', '').astype(float)\n"
   ]
  },
  {
   "cell_type": "code",
   "execution_count": 53,
   "metadata": {},
   "outputs": [
    {
     "data": {
      "text/plain": [
       "array(['4.2', '4.0', '4.1', '4.3', '3.9', '3.8', '3.5', nan, '4.6', '3.3',\n",
       "       '3.4', '3.7', '2.9', '5.0', '4.4', '3.6', '2.7', '4.5', '3.0',\n",
       "       '3.1', '3.2', '4.8', '4.7', '2.5', '1.0', '2.6', '2.8', '2.3',\n",
       "       '1.7', 'Get', '1.8', '2.4', '4.9', '2.2', '1.6', '1.9', '2.0',\n",
       "       '1.4', '2.1', 'FREE', '1.2', '1.3', '1.5', '₹68.99', '₹65', '1.1',\n",
       "       '₹70', '₹100', '₹99', '₹2.99'], dtype=object)"
      ]
     },
     "execution_count": 53,
     "metadata": {},
     "output_type": "execute_result"
    }
   ],
   "source": [
    "# Convert ratings and no_of_ratings to float values. Let's see first what kind of values they contain\n",
    "all_products['ratings'].unique()"
   ]
  },
  {
   "cell_type": "code",
   "execution_count": 54,
   "metadata": {},
   "outputs": [
    {
     "name": "stdout",
     "output_type": "stream",
     "text": [
      "Occurrences of 'Get' in 'ratings' is: 4852\n",
      "Occurrences of 'FREE' in 'ratings' is: 1357\n",
      "Occurrences of '₹68.99' in 'ratings' is: 1\n",
      "Occurrences of '₹65' in 'ratings' is: 1\n",
      "Occurrences of '₹70' in 'ratings' is: 5\n",
      "Occurrences of '₹100' in 'ratings' is: 1\n",
      "Occurrences of '₹99' in 'ratings' is: 14\n",
      "Occurrences of '₹2.99' in 'ratings' is: 2\n"
     ]
    }
   ],
   "source": [
    "# The following values: 'Get','FREE','₹68.99', '₹65','₹70', '₹100', '₹99', '₹2.99' need to be removed. Let's see in how many rows they appear\n",
    "\n",
    "search_values = ['Get', 'FREE', '₹68.99', '₹65', '₹70', '₹100', '₹99', '₹2.99']\n",
    "\n",
    "occurrences = {}\n",
    "for value in search_values:\n",
    "    occurrences[value] = all_products['ratings'].str.contains(value).sum()\n",
    "\n",
    "# Print the occurrences\n",
    "for key, value in occurrences.items():\n",
    "    print(f\"Occurrences of '{key}' in 'ratings' is: {value}\")\n"
   ]
  },
  {
   "cell_type": "markdown",
   "metadata": {},
   "source": [
    "The number of rows represent less than 10% of total number of rows, so let's remove them"
   ]
  },
  {
   "cell_type": "code",
   "execution_count": 55,
   "metadata": {},
   "outputs": [
    {
     "data": {
      "text/plain": [
       "array([4.2, 4. , 4.1, 4.3, 3.9, 3.8, 3.5, nan, 4.6, 3.3, 3.4, 3.7, 2.9,\n",
       "       5. , 4.4, 3.6, 2.7, 4.5, 3. , 3.1, 3.2, 4.8, 4.7, 2.5, 1. , 2.6,\n",
       "       2.8, 2.3, 1.7, 1.8, 2.4, 4.9, 2.2, 1.6, 1.9, 2. , 1.4, 2.1, 1.2,\n",
       "       1.3, 1.5, 1.1])"
      ]
     },
     "execution_count": 55,
     "metadata": {},
     "output_type": "execute_result"
    }
   ],
   "source": [
    "df_to_remove = all_products['ratings'].astype(str).str.contains('|'.join(search_values))  # '|' joins the elements of the search_values list into a single string separated by '|'. astype(str) is to avoid problems using ~ later\n",
    "\n",
    "# Filter the DataFrame to exclude rows with any of the search values in the 'ratings' column:\n",
    "all_products = all_products[~df_to_remove]\n",
    "all_products['ratings'] = all_products['ratings'].astype(float)\n",
    "all_products['ratings'].unique()"
   ]
  },
  {
   "cell_type": "code",
   "execution_count": 56,
   "metadata": {},
   "outputs": [],
   "source": [
    "all_products['no_of_ratings'] = all_products['no_of_ratings'].str.replace(',','').astype(float)"
   ]
  },
  {
   "cell_type": "code",
   "execution_count": 57,
   "metadata": {},
   "outputs": [
    {
     "data": {
      "text/plain": [
       "name               object\n",
       "main_category      object\n",
       "sub_category       object\n",
       "image              object\n",
       "link               object\n",
       "ratings           float64\n",
       "no_of_ratings     float64\n",
       "discount_price    float64\n",
       "actual_price      float64\n",
       "dtype: object"
      ]
     },
     "execution_count": 57,
     "metadata": {},
     "output_type": "execute_result"
    }
   ],
   "source": [
    "all_products.dtypes"
   ]
  },
  {
   "cell_type": "markdown",
   "metadata": {},
   "source": [
    "## EDA"
   ]
  },
  {
   "cell_type": "markdown",
   "metadata": {},
   "source": [
    "From a customer perspective, the most important columns are: 1) Price 2) Rating 3) Manufacturer 4) Description 5) Customer reviews\\\n",
    "Since price and rating are crucial in our further analysis, let's drop missing values the corresponding columns. "
   ]
  },
  {
   "cell_type": "code",
   "execution_count": 58,
   "metadata": {},
   "outputs": [
    {
     "data": {
      "text/plain": [
       "name                   0\n",
       "main_category          0\n",
       "sub_category           0\n",
       "image                  0\n",
       "link                   0\n",
       "ratings           175794\n",
       "no_of_ratings     175794\n",
       "discount_price     60647\n",
       "actual_price       17813\n",
       "dtype: int64"
      ]
     },
     "execution_count": 58,
     "metadata": {},
     "output_type": "execute_result"
    }
   ],
   "source": [
    "all_products.isnull().sum()"
   ]
  },
  {
   "cell_type": "code",
   "execution_count": 59,
   "metadata": {},
   "outputs": [
    {
     "data": {
      "text/plain": [
       "name              0\n",
       "main_category     0\n",
       "sub_category      0\n",
       "image             0\n",
       "link              0\n",
       "ratings           0\n",
       "no_of_ratings     0\n",
       "discount_price    0\n",
       "actual_price      0\n",
       "dtype: int64"
      ]
     },
     "execution_count": 59,
     "metadata": {},
     "output_type": "execute_result"
    }
   ],
   "source": [
    "all_products2 = all_products.dropna(subset=['ratings','no_of_ratings','discount_price','actual_price'])\n",
    "all_products2.isnull().sum()\n"
   ]
  },
  {
   "cell_type": "markdown",
   "metadata": {},
   "source": [
    "### Extract manufacturer information\n",
    "\n",
    "Manufacturer column can be created from information in name column."
   ]
  },
  {
   "cell_type": "code",
   "execution_count": 60,
   "metadata": {},
   "outputs": [
    {
     "data": {
      "text/html": [
       "<div>\n",
       "<style scoped>\n",
       "    .dataframe tbody tr th:only-of-type {\n",
       "        vertical-align: middle;\n",
       "    }\n",
       "\n",
       "    .dataframe tbody tr th {\n",
       "        vertical-align: top;\n",
       "    }\n",
       "\n",
       "    .dataframe thead th {\n",
       "        text-align: right;\n",
       "    }\n",
       "</style>\n",
       "<table border=\"1\" class=\"dataframe\">\n",
       "  <thead>\n",
       "    <tr style=\"text-align: right;\">\n",
       "      <th></th>\n",
       "      <th>name</th>\n",
       "      <th>main_category</th>\n",
       "      <th>sub_category</th>\n",
       "      <th>image</th>\n",
       "      <th>link</th>\n",
       "      <th>ratings</th>\n",
       "      <th>no_of_ratings</th>\n",
       "      <th>discount_price</th>\n",
       "      <th>actual_price</th>\n",
       "    </tr>\n",
       "  </thead>\n",
       "  <tbody>\n",
       "    <tr>\n",
       "      <th>0</th>\n",
       "      <td>Lloyd 1.5 Ton 3 Star Inverter Split Ac (5 In 1...</td>\n",
       "      <td>appliances</td>\n",
       "      <td>Air Conditioners</td>\n",
       "      <td>https://m.media-amazon.com/images/I/31UISB90sY...</td>\n",
       "      <td>https://www.amazon.in/Lloyd-Inverter-Convertib...</td>\n",
       "      <td>4.2</td>\n",
       "      <td>2255.0</td>\n",
       "      <td>32999.0</td>\n",
       "      <td>58990.0</td>\n",
       "    </tr>\n",
       "    <tr>\n",
       "      <th>1</th>\n",
       "      <td>LG 1.5 Ton 5 Star AI DUAL Inverter Split AC (C...</td>\n",
       "      <td>appliances</td>\n",
       "      <td>Air Conditioners</td>\n",
       "      <td>https://m.media-amazon.com/images/I/51JFb7FctD...</td>\n",
       "      <td>https://www.amazon.in/LG-Convertible-Anti-Viru...</td>\n",
       "      <td>4.2</td>\n",
       "      <td>2948.0</td>\n",
       "      <td>46490.0</td>\n",
       "      <td>75990.0</td>\n",
       "    </tr>\n",
       "  </tbody>\n",
       "</table>\n",
       "</div>"
      ],
      "text/plain": [
       "                                                name main_category  \\\n",
       "0  Lloyd 1.5 Ton 3 Star Inverter Split Ac (5 In 1...    appliances   \n",
       "1  LG 1.5 Ton 5 Star AI DUAL Inverter Split AC (C...    appliances   \n",
       "\n",
       "       sub_category                                              image  \\\n",
       "0  Air Conditioners  https://m.media-amazon.com/images/I/31UISB90sY...   \n",
       "1  Air Conditioners  https://m.media-amazon.com/images/I/51JFb7FctD...   \n",
       "\n",
       "                                                link  ratings  no_of_ratings  \\\n",
       "0  https://www.amazon.in/Lloyd-Inverter-Convertib...      4.2         2255.0   \n",
       "1  https://www.amazon.in/LG-Convertible-Anti-Viru...      4.2         2948.0   \n",
       "\n",
       "   discount_price  actual_price  \n",
       "0         32999.0       58990.0  \n",
       "1         46490.0       75990.0  "
      ]
     },
     "execution_count": 60,
     "metadata": {},
     "output_type": "execute_result"
    }
   ],
   "source": [
    "all_products2.head(2)"
   ]
  },
  {
   "cell_type": "code",
   "execution_count": 61,
   "metadata": {},
   "outputs": [
    {
     "name": "stderr",
     "output_type": "stream",
     "text": [
      "C:\\Users\\juan_\\AppData\\Local\\Temp\\ipykernel_21752\\2160737375.py:1: SettingWithCopyWarning: \n",
      "A value is trying to be set on a copy of a slice from a DataFrame.\n",
      "Try using .loc[row_indexer,col_indexer] = value instead\n",
      "\n",
      "See the caveats in the documentation: https://pandas.pydata.org/pandas-docs/stable/user_guide/indexing.html#returning-a-view-versus-a-copy\n",
      "  all_products2['manufacturer'] = all_products2['name'].str.split(' ').str[0]\n"
     ]
    },
    {
     "data": {
      "text/html": [
       "<div>\n",
       "<style scoped>\n",
       "    .dataframe tbody tr th:only-of-type {\n",
       "        vertical-align: middle;\n",
       "    }\n",
       "\n",
       "    .dataframe tbody tr th {\n",
       "        vertical-align: top;\n",
       "    }\n",
       "\n",
       "    .dataframe thead th {\n",
       "        text-align: right;\n",
       "    }\n",
       "</style>\n",
       "<table border=\"1\" class=\"dataframe\">\n",
       "  <thead>\n",
       "    <tr style=\"text-align: right;\">\n",
       "      <th></th>\n",
       "      <th>name</th>\n",
       "      <th>main_category</th>\n",
       "      <th>sub_category</th>\n",
       "      <th>image</th>\n",
       "      <th>link</th>\n",
       "      <th>ratings</th>\n",
       "      <th>no_of_ratings</th>\n",
       "      <th>discount_price</th>\n",
       "      <th>actual_price</th>\n",
       "      <th>manufacturer</th>\n",
       "    </tr>\n",
       "  </thead>\n",
       "  <tbody>\n",
       "    <tr>\n",
       "      <th>0</th>\n",
       "      <td>Lloyd 1.5 Ton 3 Star Inverter Split Ac (5 In 1...</td>\n",
       "      <td>appliances</td>\n",
       "      <td>Air Conditioners</td>\n",
       "      <td>https://m.media-amazon.com/images/I/31UISB90sY...</td>\n",
       "      <td>https://www.amazon.in/Lloyd-Inverter-Convertib...</td>\n",
       "      <td>4.2</td>\n",
       "      <td>2255.0</td>\n",
       "      <td>32999.0</td>\n",
       "      <td>58990.0</td>\n",
       "      <td>Lloyd</td>\n",
       "    </tr>\n",
       "    <tr>\n",
       "      <th>1</th>\n",
       "      <td>LG 1.5 Ton 5 Star AI DUAL Inverter Split AC (C...</td>\n",
       "      <td>appliances</td>\n",
       "      <td>Air Conditioners</td>\n",
       "      <td>https://m.media-amazon.com/images/I/51JFb7FctD...</td>\n",
       "      <td>https://www.amazon.in/LG-Convertible-Anti-Viru...</td>\n",
       "      <td>4.2</td>\n",
       "      <td>2948.0</td>\n",
       "      <td>46490.0</td>\n",
       "      <td>75990.0</td>\n",
       "      <td>LG</td>\n",
       "    </tr>\n",
       "  </tbody>\n",
       "</table>\n",
       "</div>"
      ],
      "text/plain": [
       "                                                name main_category  \\\n",
       "0  Lloyd 1.5 Ton 3 Star Inverter Split Ac (5 In 1...    appliances   \n",
       "1  LG 1.5 Ton 5 Star AI DUAL Inverter Split AC (C...    appliances   \n",
       "\n",
       "       sub_category                                              image  \\\n",
       "0  Air Conditioners  https://m.media-amazon.com/images/I/31UISB90sY...   \n",
       "1  Air Conditioners  https://m.media-amazon.com/images/I/51JFb7FctD...   \n",
       "\n",
       "                                                link  ratings  no_of_ratings  \\\n",
       "0  https://www.amazon.in/Lloyd-Inverter-Convertib...      4.2         2255.0   \n",
       "1  https://www.amazon.in/LG-Convertible-Anti-Viru...      4.2         2948.0   \n",
       "\n",
       "   discount_price  actual_price manufacturer  \n",
       "0         32999.0       58990.0        Lloyd  \n",
       "1         46490.0       75990.0           LG  "
      ]
     },
     "execution_count": 61,
     "metadata": {},
     "output_type": "execute_result"
    }
   ],
   "source": [
    "all_products2['manufacturer'] = all_products2['name'].str.split(' ').str[0]\n",
    "all_products2.head(2)"
   ]
  },
  {
   "cell_type": "code",
   "execution_count": 62,
   "metadata": {},
   "outputs": [
    {
     "data": {
      "text/plain": [
       "['name',\n",
       " 'main_category',\n",
       " 'sub_category',\n",
       " 'image',\n",
       " 'link',\n",
       " 'ratings',\n",
       " 'no_of_ratings',\n",
       " 'discount_price',\n",
       " 'actual_price',\n",
       " 'manufacturer']"
      ]
     },
     "execution_count": 62,
     "metadata": {},
     "output_type": "execute_result"
    }
   ],
   "source": [
    "# It is more convenient to have the manufacturer column at the beginning of the dataframe\n",
    "cols = all_products2.columns.tolist()\n",
    "cols"
   ]
  },
  {
   "cell_type": "code",
   "execution_count": 63,
   "metadata": {},
   "outputs": [],
   "source": [
    "cols = ['name',\n",
    " 'manufacturer',\n",
    " 'main_category',\n",
    " 'sub_category',\n",
    " 'image',\n",
    " 'link',\n",
    " 'ratings',\n",
    " 'no_of_ratings',\n",
    " 'discount_price',\n",
    " 'actual_price']"
   ]
  },
  {
   "cell_type": "code",
   "execution_count": 64,
   "metadata": {},
   "outputs": [
    {
     "name": "stdout",
     "output_type": "stream",
     "text": [
      "<class 'pandas.core.frame.DataFrame'>\n",
      "Index: 334963 entries, 0 to 551584\n",
      "Data columns (total 10 columns):\n",
      " #   Column          Non-Null Count   Dtype  \n",
      "---  ------          --------------   -----  \n",
      " 0   name            334963 non-null  object \n",
      " 1   manufacturer    334963 non-null  object \n",
      " 2   main_category   334963 non-null  object \n",
      " 3   sub_category    334963 non-null  object \n",
      " 4   image           334963 non-null  object \n",
      " 5   link            334963 non-null  object \n",
      " 6   ratings         334963 non-null  float64\n",
      " 7   no_of_ratings   334963 non-null  float64\n",
      " 8   discount_price  334963 non-null  float64\n",
      " 9   actual_price    334963 non-null  float64\n",
      "dtypes: float64(4), object(6)\n",
      "memory usage: 28.1+ MB\n"
     ]
    }
   ],
   "source": [
    "all_products2 = all_products2[cols]\n",
    "all_products2.info()"
   ]
  },
  {
   "cell_type": "markdown",
   "metadata": {},
   "source": [
    "### Extract the net discount amount and discount percentage"
   ]
  },
  {
   "cell_type": "code",
   "execution_count": 67,
   "metadata": {},
   "outputs": [
    {
     "data": {
      "text/html": [
       "<div>\n",
       "<style scoped>\n",
       "    .dataframe tbody tr th:only-of-type {\n",
       "        vertical-align: middle;\n",
       "    }\n",
       "\n",
       "    .dataframe tbody tr th {\n",
       "        vertical-align: top;\n",
       "    }\n",
       "\n",
       "    .dataframe thead th {\n",
       "        text-align: right;\n",
       "    }\n",
       "</style>\n",
       "<table border=\"1\" class=\"dataframe\">\n",
       "  <thead>\n",
       "    <tr style=\"text-align: right;\">\n",
       "      <th></th>\n",
       "      <th>name</th>\n",
       "      <th>manufacturer</th>\n",
       "      <th>main_category</th>\n",
       "      <th>sub_category</th>\n",
       "      <th>image</th>\n",
       "      <th>link</th>\n",
       "      <th>ratings</th>\n",
       "      <th>no_of_ratings</th>\n",
       "      <th>discount_price</th>\n",
       "      <th>actual_price</th>\n",
       "      <th>net_discount</th>\n",
       "      <th>discount_percent</th>\n",
       "    </tr>\n",
       "  </thead>\n",
       "  <tbody>\n",
       "    <tr>\n",
       "      <th>0</th>\n",
       "      <td>Lloyd 1.5 Ton 3 Star Inverter Split Ac (5 In 1...</td>\n",
       "      <td>Lloyd</td>\n",
       "      <td>appliances</td>\n",
       "      <td>Air Conditioners</td>\n",
       "      <td>https://m.media-amazon.com/images/I/31UISB90sY...</td>\n",
       "      <td>https://www.amazon.in/Lloyd-Inverter-Convertib...</td>\n",
       "      <td>4.2</td>\n",
       "      <td>2255.0</td>\n",
       "      <td>32999.0</td>\n",
       "      <td>58990.0</td>\n",
       "      <td>25991.0</td>\n",
       "      <td>0.440600</td>\n",
       "    </tr>\n",
       "    <tr>\n",
       "      <th>1</th>\n",
       "      <td>LG 1.5 Ton 5 Star AI DUAL Inverter Split AC (C...</td>\n",
       "      <td>LG</td>\n",
       "      <td>appliances</td>\n",
       "      <td>Air Conditioners</td>\n",
       "      <td>https://m.media-amazon.com/images/I/51JFb7FctD...</td>\n",
       "      <td>https://www.amazon.in/LG-Convertible-Anti-Viru...</td>\n",
       "      <td>4.2</td>\n",
       "      <td>2948.0</td>\n",
       "      <td>46490.0</td>\n",
       "      <td>75990.0</td>\n",
       "      <td>29500.0</td>\n",
       "      <td>0.388209</td>\n",
       "    </tr>\n",
       "  </tbody>\n",
       "</table>\n",
       "</div>"
      ],
      "text/plain": [
       "                                                name manufacturer  \\\n",
       "0  Lloyd 1.5 Ton 3 Star Inverter Split Ac (5 In 1...        Lloyd   \n",
       "1  LG 1.5 Ton 5 Star AI DUAL Inverter Split AC (C...           LG   \n",
       "\n",
       "  main_category      sub_category  \\\n",
       "0    appliances  Air Conditioners   \n",
       "1    appliances  Air Conditioners   \n",
       "\n",
       "                                               image  \\\n",
       "0  https://m.media-amazon.com/images/I/31UISB90sY...   \n",
       "1  https://m.media-amazon.com/images/I/51JFb7FctD...   \n",
       "\n",
       "                                                link  ratings  no_of_ratings  \\\n",
       "0  https://www.amazon.in/Lloyd-Inverter-Convertib...      4.2         2255.0   \n",
       "1  https://www.amazon.in/LG-Convertible-Anti-Viru...      4.2         2948.0   \n",
       "\n",
       "   discount_price  actual_price  net_discount  discount_percent  \n",
       "0         32999.0       58990.0       25991.0          0.440600  \n",
       "1         46490.0       75990.0       29500.0          0.388209  "
      ]
     },
     "execution_count": 67,
     "metadata": {},
     "output_type": "execute_result"
    }
   ],
   "source": [
    "all_products2['net_discount'] = all_products2['actual_price'] - all_products2['discount_price']\n",
    "all_products2['discount_percent'] = 1 - all_products2['discount_price']/all_products2['actual_price']\n",
    "all_products2.head(2)"
   ]
  },
  {
   "cell_type": "markdown",
   "metadata": {},
   "source": [
    "### Info about manufactures and their prices"
   ]
  },
  {
   "cell_type": "code",
   "execution_count": 71,
   "metadata": {},
   "outputs": [
    {
     "data": {
      "text/html": [
       "<div>\n",
       "<style scoped>\n",
       "    .dataframe tbody tr th:only-of-type {\n",
       "        vertical-align: middle;\n",
       "    }\n",
       "\n",
       "    .dataframe tbody tr th {\n",
       "        vertical-align: top;\n",
       "    }\n",
       "\n",
       "    .dataframe thead th {\n",
       "        text-align: right;\n",
       "    }\n",
       "</style>\n",
       "<table border=\"1\" class=\"dataframe\">\n",
       "  <thead>\n",
       "    <tr style=\"text-align: right;\">\n",
       "      <th></th>\n",
       "      <th>mean_price</th>\n",
       "    </tr>\n",
       "    <tr>\n",
       "      <th>manufacturer</th>\n",
       "      <th></th>\n",
       "    </tr>\n",
       "  </thead>\n",
       "  <tbody>\n",
       "    <tr>\n",
       "      <th>Marutivilla</th>\n",
       "      <td>4.950001e+09</td>\n",
       "    </tr>\n",
       "    <tr>\n",
       "      <th>DENON</th>\n",
       "      <td>2.129000e+05</td>\n",
       "    </tr>\n",
       "    <tr>\n",
       "      <th>IMALENT</th>\n",
       "      <td>1.900000e+05</td>\n",
       "    </tr>\n",
       "    <tr>\n",
       "      <th>XGIMI</th>\n",
       "      <td>1.899077e+05</td>\n",
       "    </tr>\n",
       "    <tr>\n",
       "      <th>Mijia</th>\n",
       "      <td>1.849990e+05</td>\n",
       "    </tr>\n",
       "    <tr>\n",
       "      <th>...</th>\n",
       "      <td>...</td>\n",
       "    </tr>\n",
       "    <tr>\n",
       "      <th>Too</th>\n",
       "      <td>2.000000e+01</td>\n",
       "    </tr>\n",
       "    <tr>\n",
       "      <th>Sprite,</th>\n",
       "      <td>2.000000e+01</td>\n",
       "    </tr>\n",
       "    <tr>\n",
       "      <th>Bingo!</th>\n",
       "      <td>1.000000e+01</td>\n",
       "    </tr>\n",
       "    <tr>\n",
       "      <th>Kurkure</th>\n",
       "      <td>1.000000e+01</td>\n",
       "    </tr>\n",
       "    <tr>\n",
       "      <th>BRU</th>\n",
       "      <td>1.000000e+01</td>\n",
       "    </tr>\n",
       "  </tbody>\n",
       "</table>\n",
       "<p>37797 rows × 1 columns</p>\n",
       "</div>"
      ],
      "text/plain": [
       "                mean_price\n",
       "manufacturer              \n",
       "Marutivilla   4.950001e+09\n",
       "DENON         2.129000e+05\n",
       "IMALENT       1.900000e+05\n",
       "XGIMI         1.899077e+05\n",
       "Mijia         1.849990e+05\n",
       "...                    ...\n",
       "Too           2.000000e+01\n",
       "Sprite,       2.000000e+01\n",
       "Bingo!        1.000000e+01\n",
       "Kurkure       1.000000e+01\n",
       "BRU           1.000000e+01\n",
       "\n",
       "[37797 rows x 1 columns]"
      ]
     },
     "execution_count": 71,
     "metadata": {},
     "output_type": "execute_result"
    }
   ],
   "source": [
    "# Manufactures and their average product prices\n",
    "all_products2.groupby('manufacturer').agg(mean_price = ('actual_price','mean')).sort_values(by='mean_price', ascending=False)"
   ]
  },
  {
   "cell_type": "code",
   "execution_count": 79,
   "metadata": {},
   "outputs": [
    {
     "data": {
      "text/html": [
       "<div>\n",
       "<style scoped>\n",
       "    .dataframe tbody tr th:only-of-type {\n",
       "        vertical-align: middle;\n",
       "    }\n",
       "\n",
       "    .dataframe tbody tr th {\n",
       "        vertical-align: top;\n",
       "    }\n",
       "\n",
       "    .dataframe thead th {\n",
       "        text-align: right;\n",
       "    }\n",
       "</style>\n",
       "<table border=\"1\" class=\"dataframe\">\n",
       "  <thead>\n",
       "    <tr style=\"text-align: right;\">\n",
       "      <th></th>\n",
       "      <th>name</th>\n",
       "      <th>manufacturer</th>\n",
       "      <th>main_category</th>\n",
       "      <th>sub_category</th>\n",
       "      <th>image</th>\n",
       "      <th>link</th>\n",
       "      <th>ratings</th>\n",
       "      <th>no_of_ratings</th>\n",
       "      <th>discount_price</th>\n",
       "      <th>actual_price</th>\n",
       "      <th>net_discount</th>\n",
       "      <th>discount_percent</th>\n",
       "    </tr>\n",
       "  </thead>\n",
       "  <tbody>\n",
       "    <tr>\n",
       "      <th>194625</th>\n",
       "      <td>Marutivilla Insect Killer, Mosquito Killer Lig...</td>\n",
       "      <td>Marutivilla</td>\n",
       "      <td>home &amp; kitchen</td>\n",
       "      <td>Garden &amp; Outdoors</td>\n",
       "      <td>https://m.media-amazon.com/images/W/IMAGERENDE...</td>\n",
       "      <td>https://www.amazon.in/Marutivilla-Mosquito-Suc...</td>\n",
       "      <td>2.0</td>\n",
       "      <td>1.0</td>\n",
       "      <td>589.0</td>\n",
       "      <td>9.900000e+09</td>\n",
       "      <td>9.899999e+09</td>\n",
       "      <td>1.0</td>\n",
       "    </tr>\n",
       "  </tbody>\n",
       "</table>\n",
       "</div>"
      ],
      "text/plain": [
       "                                                     name manufacturer  \\\n",
       "194625  Marutivilla Insect Killer, Mosquito Killer Lig...  Marutivilla   \n",
       "\n",
       "         main_category       sub_category  \\\n",
       "194625  home & kitchen  Garden & Outdoors   \n",
       "\n",
       "                                                    image  \\\n",
       "194625  https://m.media-amazon.com/images/W/IMAGERENDE...   \n",
       "\n",
       "                                                     link  ratings  \\\n",
       "194625  https://www.amazon.in/Marutivilla-Mosquito-Suc...      2.0   \n",
       "\n",
       "        no_of_ratings  discount_price  actual_price  net_discount  \\\n",
       "194625            1.0           589.0  9.900000e+09  9.899999e+09   \n",
       "\n",
       "        discount_percent  \n",
       "194625               1.0  "
      ]
     },
     "execution_count": 79,
     "metadata": {},
     "output_type": "execute_result"
    }
   ],
   "source": [
    "# Most expensive product\n",
    "all_products2[all_products2['actual_price'] == all_products2['actual_price'].max()]#['name']"
   ]
  },
  {
   "cell_type": "code",
   "execution_count": 82,
   "metadata": {},
   "outputs": [
    {
     "data": {
      "text/html": [
       "<div>\n",
       "<style scoped>\n",
       "    .dataframe tbody tr th:only-of-type {\n",
       "        vertical-align: middle;\n",
       "    }\n",
       "\n",
       "    .dataframe tbody tr th {\n",
       "        vertical-align: top;\n",
       "    }\n",
       "\n",
       "    .dataframe thead th {\n",
       "        text-align: right;\n",
       "    }\n",
       "</style>\n",
       "<table border=\"1\" class=\"dataframe\">\n",
       "  <thead>\n",
       "    <tr style=\"text-align: right;\">\n",
       "      <th></th>\n",
       "      <th>name</th>\n",
       "      <th>manufacturer</th>\n",
       "      <th>main_category</th>\n",
       "      <th>sub_category</th>\n",
       "      <th>image</th>\n",
       "      <th>link</th>\n",
       "      <th>ratings</th>\n",
       "      <th>no_of_ratings</th>\n",
       "      <th>discount_price</th>\n",
       "      <th>actual_price</th>\n",
       "      <th>net_discount</th>\n",
       "      <th>discount_percent</th>\n",
       "    </tr>\n",
       "  </thead>\n",
       "  <tbody>\n",
       "    <tr>\n",
       "      <th>23172</th>\n",
       "      <td>Bingo! Tedhe Medhe Masala Tadka, 50g, Spindle ...</td>\n",
       "      <td>Bingo!</td>\n",
       "      <td>grocery &amp; gourmet foods</td>\n",
       "      <td>All Grocery &amp; Gourmet Foods</td>\n",
       "      <td>https://m.media-amazon.com/images/W/IMAGERENDE...</td>\n",
       "      <td>https://www.amazon.in/Bingo-Tedhe-Medhe-Masala...</td>\n",
       "      <td>4.5</td>\n",
       "      <td>289.0</td>\n",
       "      <td>9.0</td>\n",
       "      <td>10.0</td>\n",
       "      <td>1.0</td>\n",
       "      <td>0.1</td>\n",
       "    </tr>\n",
       "    <tr>\n",
       "      <th>124233</th>\n",
       "      <td>BRU Instant Coffee Sachet,Ground, 8g</td>\n",
       "      <td>BRU</td>\n",
       "      <td>grocery &amp; gourmet foods</td>\n",
       "      <td>Coffee, Tea &amp; Beverages</td>\n",
       "      <td>https://m.media-amazon.com/images/I/61nqvhwCKp...</td>\n",
       "      <td>https://www.amazon.in/BRU-Instant-Coffee-Sache...</td>\n",
       "      <td>4.0</td>\n",
       "      <td>7.0</td>\n",
       "      <td>8.0</td>\n",
       "      <td>10.0</td>\n",
       "      <td>2.0</td>\n",
       "      <td>0.2</td>\n",
       "    </tr>\n",
       "    <tr>\n",
       "      <th>268602</th>\n",
       "      <td>Rin Detergent Bar - 165g</td>\n",
       "      <td>Rin</td>\n",
       "      <td>beauty &amp; health</td>\n",
       "      <td>Household Supplies</td>\n",
       "      <td>https://m.media-amazon.com/images/I/81ufvQZfLH...</td>\n",
       "      <td>https://www.amazon.in/RIN-Invictus_RiDBa165g-R...</td>\n",
       "      <td>4.0</td>\n",
       "      <td>44.0</td>\n",
       "      <td>9.0</td>\n",
       "      <td>10.0</td>\n",
       "      <td>1.0</td>\n",
       "      <td>0.1</td>\n",
       "    </tr>\n",
       "    <tr>\n",
       "      <th>437600</th>\n",
       "      <td>Kurkure Yummy Cheese Puffcorn Namkeen, 28g</td>\n",
       "      <td>Kurkure</td>\n",
       "      <td>grocery &amp; gourmet foods</td>\n",
       "      <td>Snack Foods</td>\n",
       "      <td>https://m.media-amazon.com/images/I/71SjZUrMws...</td>\n",
       "      <td>https://www.amazon.in/Kurkure-Yummy-Cheese-Puf...</td>\n",
       "      <td>4.4</td>\n",
       "      <td>1485.0</td>\n",
       "      <td>9.0</td>\n",
       "      <td>10.0</td>\n",
       "      <td>1.0</td>\n",
       "      <td>0.1</td>\n",
       "    </tr>\n",
       "    <tr>\n",
       "      <th>437604</th>\n",
       "      <td>Lay's Potato Chips 24g/27g, West Indies Hot 'n...</td>\n",
       "      <td>Lay's</td>\n",
       "      <td>grocery &amp; gourmet foods</td>\n",
       "      <td>Snack Foods</td>\n",
       "      <td>https://m.media-amazon.com/images/I/718mIkrmCf...</td>\n",
       "      <td>https://www.amazon.in/Lays-Sweet-Chilli-Potato...</td>\n",
       "      <td>4.3</td>\n",
       "      <td>864.0</td>\n",
       "      <td>9.0</td>\n",
       "      <td>10.0</td>\n",
       "      <td>1.0</td>\n",
       "      <td>0.1</td>\n",
       "    </tr>\n",
       "    <tr>\n",
       "      <th>437916</th>\n",
       "      <td>Cadbury Oreo Original Vanilla Creme Biscuit, 4...</td>\n",
       "      <td>Cadbury</td>\n",
       "      <td>grocery &amp; gourmet foods</td>\n",
       "      <td>Snack Foods</td>\n",
       "      <td>https://m.media-amazon.com/images/W/IMAGERENDE...</td>\n",
       "      <td>https://www.amazon.in/Cadbury-Oreo-Vanilla-Cr%...</td>\n",
       "      <td>4.4</td>\n",
       "      <td>1353.0</td>\n",
       "      <td>9.0</td>\n",
       "      <td>10.0</td>\n",
       "      <td>1.0</td>\n",
       "      <td>0.1</td>\n",
       "    </tr>\n",
       "  </tbody>\n",
       "</table>\n",
       "</div>"
      ],
      "text/plain": [
       "                                                     name manufacturer  \\\n",
       "23172   Bingo! Tedhe Medhe Masala Tadka, 50g, Spindle ...       Bingo!   \n",
       "124233               BRU Instant Coffee Sachet,Ground, 8g          BRU   \n",
       "268602                           Rin Detergent Bar - 165g          Rin   \n",
       "437600         Kurkure Yummy Cheese Puffcorn Namkeen, 28g      Kurkure   \n",
       "437604  Lay's Potato Chips 24g/27g, West Indies Hot 'n...        Lay's   \n",
       "437916  Cadbury Oreo Original Vanilla Creme Biscuit, 4...      Cadbury   \n",
       "\n",
       "                  main_category                 sub_category  \\\n",
       "23172   grocery & gourmet foods  All Grocery & Gourmet Foods   \n",
       "124233  grocery & gourmet foods      Coffee, Tea & Beverages   \n",
       "268602          beauty & health           Household Supplies   \n",
       "437600  grocery & gourmet foods                  Snack Foods   \n",
       "437604  grocery & gourmet foods                  Snack Foods   \n",
       "437916  grocery & gourmet foods                  Snack Foods   \n",
       "\n",
       "                                                    image  \\\n",
       "23172   https://m.media-amazon.com/images/W/IMAGERENDE...   \n",
       "124233  https://m.media-amazon.com/images/I/61nqvhwCKp...   \n",
       "268602  https://m.media-amazon.com/images/I/81ufvQZfLH...   \n",
       "437600  https://m.media-amazon.com/images/I/71SjZUrMws...   \n",
       "437604  https://m.media-amazon.com/images/I/718mIkrmCf...   \n",
       "437916  https://m.media-amazon.com/images/W/IMAGERENDE...   \n",
       "\n",
       "                                                     link  ratings  \\\n",
       "23172   https://www.amazon.in/Bingo-Tedhe-Medhe-Masala...      4.5   \n",
       "124233  https://www.amazon.in/BRU-Instant-Coffee-Sache...      4.0   \n",
       "268602  https://www.amazon.in/RIN-Invictus_RiDBa165g-R...      4.0   \n",
       "437600  https://www.amazon.in/Kurkure-Yummy-Cheese-Puf...      4.4   \n",
       "437604  https://www.amazon.in/Lays-Sweet-Chilli-Potato...      4.3   \n",
       "437916  https://www.amazon.in/Cadbury-Oreo-Vanilla-Cr%...      4.4   \n",
       "\n",
       "        no_of_ratings  discount_price  actual_price  net_discount  \\\n",
       "23172           289.0             9.0          10.0           1.0   \n",
       "124233            7.0             8.0          10.0           2.0   \n",
       "268602           44.0             9.0          10.0           1.0   \n",
       "437600         1485.0             9.0          10.0           1.0   \n",
       "437604          864.0             9.0          10.0           1.0   \n",
       "437916         1353.0             9.0          10.0           1.0   \n",
       "\n",
       "        discount_percent  \n",
       "23172                0.1  \n",
       "124233               0.2  \n",
       "268602               0.1  \n",
       "437600               0.1  \n",
       "437604               0.1  \n",
       "437916               0.1  "
      ]
     },
     "execution_count": 82,
     "metadata": {},
     "output_type": "execute_result"
    }
   ],
   "source": [
    "# Cheapest product/products\n",
    "all_products2[all_products2['actual_price'] == all_products2['actual_price'].min()]"
   ]
  },
  {
   "cell_type": "markdown",
   "metadata": {},
   "source": [
    "### TOP10 Most popular manufacturers:"
   ]
  },
  {
   "cell_type": "code",
   "execution_count": 92,
   "metadata": {},
   "outputs": [],
   "source": [
    "top10_manufacturers = all_products2['manufacturer'].value_counts().keys().to_list()[:10]\n",
    "top10_values = all_products2['manufacturer'].value_counts().to_list()[:10]"
   ]
  },
  {
   "cell_type": "code",
   "execution_count": 123,
   "metadata": {},
   "outputs": [
    {
     "data": {
      "image/png": "[encoded data removed]",
      "text/plain": [
       "<Figure size 640x480 with 1 Axes>"
      ]
     },
     "metadata": {},
     "output_type": "display_data"
    }
   ],
   "source": [
    "sns.barplot(x = top10_manufacturers, y = top10_values, color='orange', zorder = 2)\n",
    "plt.grid(axis='y', linestyle='--', alpha=0.5, zorder = 1, color='black')\n",
    "plt.xlabel('Manufacturers')\n",
    "plt.ylabel('Items')\n",
    "plt.title('Top 10 Manufacturers in Amazon', fontweight='bold')\n",
    "plt.xticks(rotation=45, ha='right')\n",
    "plt.show()"
   ]
  },
  {
   "cell_type": "markdown",
   "metadata": {},
   "source": [
    "According to the bar chart above, Puma is the most popular manufacturer."
   ]
  },
  {
   "cell_type": "markdown",
   "metadata": {},
   "source": [
    "### Average rating in top 10 manufacturers:"
   ]
  },
  {
   "cell_type": "code",
   "execution_count": 127,
   "metadata": {},
   "outputs": [
    {
     "data": {
      "text/html": [
       "<div>\n",
       "<style scoped>\n",
       "    .dataframe tbody tr th:only-of-type {\n",
       "        vertical-align: middle;\n",
       "    }\n",
       "\n",
       "    .dataframe tbody tr th {\n",
       "        vertical-align: top;\n",
       "    }\n",
       "\n",
       "    .dataframe thead th {\n",
       "        text-align: right;\n",
       "    }\n",
       "</style>\n",
       "<table border=\"1\" class=\"dataframe\">\n",
       "  <thead>\n",
       "    <tr style=\"text-align: right;\">\n",
       "      <th></th>\n",
       "      <th>name</th>\n",
       "      <th>manufacturer</th>\n",
       "      <th>main_category</th>\n",
       "      <th>sub_category</th>\n",
       "      <th>image</th>\n",
       "      <th>link</th>\n",
       "      <th>ratings</th>\n",
       "      <th>no_of_ratings</th>\n",
       "      <th>discount_price</th>\n",
       "      <th>actual_price</th>\n",
       "      <th>net_discount</th>\n",
       "      <th>discount_percent</th>\n",
       "    </tr>\n",
       "  </thead>\n",
       "  <tbody>\n",
       "    <tr>\n",
       "      <th>65</th>\n",
       "      <td>Amazon Basics 1 Ton, 5 Star, Wi-Fi Enabled Sma...</td>\n",
       "      <td>Amazon</td>\n",
       "      <td>appliances</td>\n",
       "      <td>Air Conditioners</td>\n",
       "      <td>https://m.media-amazon.com/images/I/51s3yrWntM...</td>\n",
       "      <td>https://www.amazon.in/AmazonBasics-1-5-Ton-Air...</td>\n",
       "      <td>3.6</td>\n",
       "      <td>88.0</td>\n",
       "      <td>28990.00</td>\n",
       "      <td>49089.0</td>\n",
       "      <td>20099.00</td>\n",
       "      <td>0.409440</td>\n",
       "    </tr>\n",
       "    <tr>\n",
       "      <th>83</th>\n",
       "      <td>Amazon Basics 1.5 Ton, 5 Star, Wi-Fi Enabled S...</td>\n",
       "      <td>Amazon</td>\n",
       "      <td>appliances</td>\n",
       "      <td>Air Conditioners</td>\n",
       "      <td>https://m.media-amazon.com/images/I/51s3yrWntM...</td>\n",
       "      <td>https://www.amazon.in/AmazonBasics-1-5-Ton-Air...</td>\n",
       "      <td>3.4</td>\n",
       "      <td>39.0</td>\n",
       "      <td>34990.00</td>\n",
       "      <td>56179.0</td>\n",
       "      <td>21189.00</td>\n",
       "      <td>0.377169</td>\n",
       "    </tr>\n",
       "    <tr>\n",
       "      <th>112</th>\n",
       "      <td>Amazon Basics 1 Ton 4 Star Fixed Speed Window ...</td>\n",
       "      <td>Amazon</td>\n",
       "      <td>appliances</td>\n",
       "      <td>Air Conditioners</td>\n",
       "      <td>https://m.media-amazon.com/images/I/91BcgKPL5x...</td>\n",
       "      <td>https://www.amazon.in/AmazonBasics-1-5-Ton-Air...</td>\n",
       "      <td>3.5</td>\n",
       "      <td>14.0</td>\n",
       "      <td>25490.00</td>\n",
       "      <td>33990.0</td>\n",
       "      <td>8500.00</td>\n",
       "      <td>0.250074</td>\n",
       "    </tr>\n",
       "    <tr>\n",
       "      <th>803</th>\n",
       "      <td>The Earth Store Handheld Coffee Frother Electr...</td>\n",
       "      <td>The</td>\n",
       "      <td>appliances</td>\n",
       "      <td>All Appliances</td>\n",
       "      <td>https://m.media-amazon.com/images/I/51+vA2qAe9...</td>\n",
       "      <td>https://www.amazon.in/Earth-Store-Coffee-Froth...</td>\n",
       "      <td>4.1</td>\n",
       "      <td>1944.0</td>\n",
       "      <td>225.00</td>\n",
       "      <td>499.0</td>\n",
       "      <td>274.00</td>\n",
       "      <td>0.549098</td>\n",
       "    </tr>\n",
       "    <tr>\n",
       "      <th>970</th>\n",
       "      <td>The Better Home Lint Roller for Clothes | Wood...</td>\n",
       "      <td>The</td>\n",
       "      <td>appliances</td>\n",
       "      <td>All Appliances</td>\n",
       "      <td>https://m.media-amazon.com/images/I/31J-ca1u8l...</td>\n",
       "      <td>https://www.amazon.in/Better-Home-Clothes-Remo...</td>\n",
       "      <td>4.1</td>\n",
       "      <td>190.0</td>\n",
       "      <td>265.00</td>\n",
       "      <td>899.0</td>\n",
       "      <td>634.00</td>\n",
       "      <td>0.705228</td>\n",
       "    </tr>\n",
       "    <tr>\n",
       "      <th>...</th>\n",
       "      <td>...</td>\n",
       "      <td>...</td>\n",
       "      <td>...</td>\n",
       "      <td>...</td>\n",
       "      <td>...</td>\n",
       "      <td>...</td>\n",
       "      <td>...</td>\n",
       "      <td>...</td>\n",
       "      <td>...</td>\n",
       "      <td>...</td>\n",
       "      <td>...</td>\n",
       "      <td>...</td>\n",
       "    </tr>\n",
       "    <tr>\n",
       "      <th>551518</th>\n",
       "      <td>Puma Men's Jacket</td>\n",
       "      <td>Puma</td>\n",
       "      <td>sports &amp; fitness</td>\n",
       "      <td>Yoga</td>\n",
       "      <td>https://m.media-amazon.com/images/W/IMAGERENDE...</td>\n",
       "      <td>https://www.amazon.in/Puma-Mens-Track-Jacket-5...</td>\n",
       "      <td>2.8</td>\n",
       "      <td>2.0</td>\n",
       "      <td>2999.00</td>\n",
       "      <td>4999.0</td>\n",
       "      <td>2000.00</td>\n",
       "      <td>0.400080</td>\n",
       "    </tr>\n",
       "    <tr>\n",
       "      <th>551519</th>\n",
       "      <td>Puma Men Track Jacket</td>\n",
       "      <td>Puma</td>\n",
       "      <td>sports &amp; fitness</td>\n",
       "      <td>Yoga</td>\n",
       "      <td>https://m.media-amazon.com/images/W/IMAGERENDE...</td>\n",
       "      <td>https://www.amazon.in/Puma-Track-Jacket-595430...</td>\n",
       "      <td>4.0</td>\n",
       "      <td>6.0</td>\n",
       "      <td>4549.00</td>\n",
       "      <td>6999.0</td>\n",
       "      <td>2450.00</td>\n",
       "      <td>0.350050</td>\n",
       "    </tr>\n",
       "    <tr>\n",
       "      <th>551525</th>\n",
       "      <td>Puma Men's Jacket</td>\n",
       "      <td>Puma</td>\n",
       "      <td>sports &amp; fitness</td>\n",
       "      <td>Yoga</td>\n",
       "      <td>https://m.media-amazon.com/images/W/IMAGERENDE...</td>\n",
       "      <td>https://www.amazon.in/Puma-Mens-Track-Jacket-5...</td>\n",
       "      <td>4.2</td>\n",
       "      <td>58.0</td>\n",
       "      <td>3949.00</td>\n",
       "      <td>4999.0</td>\n",
       "      <td>1050.00</td>\n",
       "      <td>0.210042</td>\n",
       "    </tr>\n",
       "    <tr>\n",
       "      <th>551544</th>\n",
       "      <td>Puma Women's Car Coat</td>\n",
       "      <td>Puma</td>\n",
       "      <td>sports &amp; fitness</td>\n",
       "      <td>Yoga</td>\n",
       "      <td>https://m.media-amazon.com/images/I/51DT-7f3yG...</td>\n",
       "      <td>https://www.amazon.in/Puma-Womens-Nylon-Jacket...</td>\n",
       "      <td>5.0</td>\n",
       "      <td>2.0</td>\n",
       "      <td>3369.00</td>\n",
       "      <td>4499.0</td>\n",
       "      <td>1130.00</td>\n",
       "      <td>0.251167</td>\n",
       "    </tr>\n",
       "    <tr>\n",
       "      <th>551572</th>\n",
       "      <td>Amazon Brand - Symactive Men Shorts</td>\n",
       "      <td>Amazon</td>\n",
       "      <td>sports &amp; fitness</td>\n",
       "      <td>Yoga</td>\n",
       "      <td>https://m.media-amazon.com/images/I/81q+k3dsJg...</td>\n",
       "      <td>https://www.amazon.in/Amazon-Brand-Symactive-P...</td>\n",
       "      <td>5.0</td>\n",
       "      <td>2.0</td>\n",
       "      <td>655.04</td>\n",
       "      <td>2399.0</td>\n",
       "      <td>1743.96</td>\n",
       "      <td>0.726953</td>\n",
       "    </tr>\n",
       "  </tbody>\n",
       "</table>\n",
       "<p>20698 rows × 12 columns</p>\n",
       "</div>"
      ],
      "text/plain": [
       "                                                     name manufacturer  \\\n",
       "65      Amazon Basics 1 Ton, 5 Star, Wi-Fi Enabled Sma...       Amazon   \n",
       "83      Amazon Basics 1.5 Ton, 5 Star, Wi-Fi Enabled S...       Amazon   \n",
       "112     Amazon Basics 1 Ton 4 Star Fixed Speed Window ...       Amazon   \n",
       "803     The Earth Store Handheld Coffee Frother Electr...          The   \n",
       "970     The Better Home Lint Roller for Clothes | Wood...          The   \n",
       "...                                                   ...          ...   \n",
       "551518                                  Puma Men's Jacket         Puma   \n",
       "551519                              Puma Men Track Jacket         Puma   \n",
       "551525                                  Puma Men's Jacket         Puma   \n",
       "551544                              Puma Women's Car Coat         Puma   \n",
       "551572                Amazon Brand - Symactive Men Shorts       Amazon   \n",
       "\n",
       "           main_category      sub_category  \\\n",
       "65            appliances  Air Conditioners   \n",
       "83            appliances  Air Conditioners   \n",
       "112           appliances  Air Conditioners   \n",
       "803           appliances    All Appliances   \n",
       "970           appliances    All Appliances   \n",
       "...                  ...               ...   \n",
       "551518  sports & fitness              Yoga   \n",
       "551519  sports & fitness              Yoga   \n",
       "551525  sports & fitness              Yoga   \n",
       "551544  sports & fitness              Yoga   \n",
       "551572  sports & fitness              Yoga   \n",
       "\n",
       "                                                    image  \\\n",
       "65      https://m.media-amazon.com/images/I/51s3yrWntM...   \n",
       "83      https://m.media-amazon.com/images/I/51s3yrWntM...   \n",
       "112     https://m.media-amazon.com/images/I/91BcgKPL5x...   \n",
       "803     https://m.media-amazon.com/images/I/51+vA2qAe9...   \n",
       "970     https://m.media-amazon.com/images/I/31J-ca1u8l...   \n",
       "...                                                   ...   \n",
       "551518  https://m.media-amazon.com/images/W/IMAGERENDE...   \n",
       "551519  https://m.media-amazon.com/images/W/IMAGERENDE...   \n",
       "551525  https://m.media-amazon.com/images/W/IMAGERENDE...   \n",
       "551544  https://m.media-amazon.com/images/I/51DT-7f3yG...   \n",
       "551572  https://m.media-amazon.com/images/I/81q+k3dsJg...   \n",
       "\n",
       "                                                     link  ratings  \\\n",
       "65      https://www.amazon.in/AmazonBasics-1-5-Ton-Air...      3.6   \n",
       "83      https://www.amazon.in/AmazonBasics-1-5-Ton-Air...      3.4   \n",
       "112     https://www.amazon.in/AmazonBasics-1-5-Ton-Air...      3.5   \n",
       "803     https://www.amazon.in/Earth-Store-Coffee-Froth...      4.1   \n",
       "970     https://www.amazon.in/Better-Home-Clothes-Remo...      4.1   \n",
       "...                                                   ...      ...   \n",
       "551518  https://www.amazon.in/Puma-Mens-Track-Jacket-5...      2.8   \n",
       "551519  https://www.amazon.in/Puma-Track-Jacket-595430...      4.0   \n",
       "551525  https://www.amazon.in/Puma-Mens-Track-Jacket-5...      4.2   \n",
       "551544  https://www.amazon.in/Puma-Womens-Nylon-Jacket...      5.0   \n",
       "551572  https://www.amazon.in/Amazon-Brand-Symactive-P...      5.0   \n",
       "\n",
       "        no_of_ratings  discount_price  actual_price  net_discount  \\\n",
       "65               88.0        28990.00       49089.0      20099.00   \n",
       "83               39.0        34990.00       56179.0      21189.00   \n",
       "112              14.0        25490.00       33990.0       8500.00   \n",
       "803            1944.0          225.00         499.0        274.00   \n",
       "970             190.0          265.00         899.0        634.00   \n",
       "...               ...             ...           ...           ...   \n",
       "551518            2.0         2999.00        4999.0       2000.00   \n",
       "551519            6.0         4549.00        6999.0       2450.00   \n",
       "551525           58.0         3949.00        4999.0       1050.00   \n",
       "551544            2.0         3369.00        4499.0       1130.00   \n",
       "551572            2.0          655.04        2399.0       1743.96   \n",
       "\n",
       "        discount_percent  \n",
       "65              0.409440  \n",
       "83              0.377169  \n",
       "112             0.250074  \n",
       "803             0.549098  \n",
       "970             0.705228  \n",
       "...                  ...  \n",
       "551518          0.400080  \n",
       "551519          0.350050  \n",
       "551525          0.210042  \n",
       "551544          0.251167  \n",
       "551572          0.726953  \n",
       "\n",
       "[20698 rows x 12 columns]"
      ]
     },
     "execution_count": 127,
     "metadata": {},
     "output_type": "execute_result"
    }
   ],
   "source": [
    "# Creating a dataframe with TOP10 manufacterers:\n",
    "all_products2[all_products2['manufacturer'].isin(top10_manufacturers)]"
   ]
  }
 ],
 "metadata": {
  "kernelspec": {
   "display_name": "base",
   "language": "python",
   "name": "python3"
  },
  "language_info": {
   "codemirror_mode": {
    "name": "ipython",
    "version": 3
   },
   "file_extension": ".py",
   "mimetype": "text/x-python",
   "name": "python",
   "nbconvert_exporter": "python",
   "pygments_lexer": "ipython3",
   "version": "3.11.5"
  }
 },
 "nbformat": 4,
 "nbformat_minor": 2
}
